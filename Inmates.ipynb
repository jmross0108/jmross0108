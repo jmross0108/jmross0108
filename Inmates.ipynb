{
  "nbformat": 4,
  "nbformat_minor": 0,
  "metadata": {
    "colab": {
      "name": "Inmates",
      "provenance": [],
      "collapsed_sections": [],
      "authorship_tag": "ABX9TyM2hS4jfS+ymtxysrdwNa7W",
      "include_colab_link": true
    },
    "kernelspec": {
      "name": "python3",
      "display_name": "Python 3"
    },
    "language_info": {
      "name": "python"
    }
  },
  "cells": [
    {
      "cell_type": "markdown",
      "metadata": {
        "id": "view-in-github",
        "colab_type": "text"
      },
      "source": [
        "<a href=\"https://colab.research.google.com/github/jmross0108/jmross0108/blob/main/Inmates.ipynb\" target=\"_parent\"><img src=\"https://colab.research.google.com/assets/colab-badge.svg\" alt=\"Open In Colab\"/></a>"
      ]
    },
    {
      "cell_type": "markdown",
      "source": [
        "Import libraries"
      ],
      "metadata": {
        "id": "4Wsejyp1AiTZ"
      }
    },
    {
      "cell_type": "code",
      "source": [
        "import pandas as pd\n",
        "import numpy as np\n",
        "import seaborn as sns\n",
        "import matplotlib.pyplot as plt\n",
        "import os\n",
        "import requests \n",
        "!pip install sodapy\n",
        "from sodapy import Socrata"
      ],
      "metadata": {
        "id": "7W6kEyd5AitC",
        "colab": {
          "base_uri": "https://localhost:8080/"
        },
        "outputId": "f3925abc-86b0-4358-bec9-4b9012f61101"
      },
      "execution_count": null,
      "outputs": [
        {
          "output_type": "stream",
          "name": "stdout",
          "text": [
            "Collecting sodapy\n",
            "  Downloading sodapy-2.1.1-py2.py3-none-any.whl (14 kB)\n",
            "Requirement already satisfied: requests>=2.20.0 in /usr/local/lib/python3.7/dist-packages (from sodapy) (2.23.0)\n",
            "Requirement already satisfied: idna<3,>=2.5 in /usr/local/lib/python3.7/dist-packages (from requests>=2.20.0->sodapy) (2.10)\n",
            "Requirement already satisfied: urllib3!=1.25.0,!=1.25.1,<1.26,>=1.21.1 in /usr/local/lib/python3.7/dist-packages (from requests>=2.20.0->sodapy) (1.24.3)\n",
            "Requirement already satisfied: certifi>=2017.4.17 in /usr/local/lib/python3.7/dist-packages (from requests>=2.20.0->sodapy) (2021.10.8)\n",
            "Requirement already satisfied: chardet<4,>=3.0.2 in /usr/local/lib/python3.7/dist-packages (from requests>=2.20.0->sodapy) (3.0.4)\n",
            "Installing collected packages: sodapy\n",
            "Successfully installed sodapy-2.1.1\n"
          ]
        }
      ]
    },
    {
      "cell_type": "markdown",
      "source": [
        "Read in Data retrieved with the API endpoint from data.texas.gov"
      ],
      "metadata": {
        "id": "7TRpDqUMAD2a"
      }
    },
    {
      "cell_type": "code",
      "source": [
        "url = 'https://data.texas.gov/resource/cg6t-bapy.json'\n",
        "r = requests.get(url)\n",
        "r"
      ],
      "metadata": {
        "colab": {
          "base_uri": "https://localhost:8080/"
        },
        "id": "qL9d4OcbHpjp",
        "outputId": "b8e5e1b9-00f5-41e6-f7d1-4f01f10a5851"
      },
      "execution_count": null,
      "outputs": [
        {
          "output_type": "execute_result",
          "data": {
            "text/plain": [
              "<Response [200]>"
            ]
          },
          "metadata": {},
          "execution_count": 2
        }
      ]
    },
    {
      "cell_type": "code",
      "source": [
        "json = r.json()\n",
        "inmates = pd.DataFrame(json)\n",
        "inmates.head()"
      ],
      "metadata": {
        "colab": {
          "base_uri": "https://localhost:8080/",
          "height": 391
        },
        "id": "9GUAImALIZWr",
        "outputId": "8bb43b1e-4ee2-4bcf-9827-11b91522c5f7"
      },
      "execution_count": null,
      "outputs": [
        {
          "output_type": "execute_result",
          "data": {
            "text/plain": [
              "  sid_number tdcj_number                  name    current_facility gender  \\\n",
              "0   00524524    00758486  HARPER,DAVID JOHN JR             Estelle      M   \n",
              "1   00703267    00841623    RODRIGUEZ,THEODORE  Hospital Galveston      M   \n",
              "2   00770626    00449674         FLORES,ISABEL                Pack      M   \n",
              "3   00771601    01491019     MOLETT,JOHN HENRY            W. Scott      M   \n",
              "4   00779423    01241039       CARAWAY,LEON JR        C.T. Terrell      M   \n",
              "\n",
              "  race age        projected_release    maximum_sentence_date  \\\n",
              "0    W  93  9999-01-01T00:00:00.000  9999-01-01T00:00:00.000   \n",
              "1    W  84  2022-03-01T00:00:00.000  2043-08-03T00:00:00.000   \n",
              "2    H  84  9999-01-01T00:00:00.000  9999-01-01T00:00:00.000   \n",
              "3    B  79  2037-12-02T00:00:00.000  2037-12-02T00:00:00.000   \n",
              "4    B  84  2023-06-19T00:00:00.000  2023-06-19T00:00:00.000   \n",
              "\n",
              "   parole_eligibility_date  case_number    county offense_code  \\\n",
              "0  2026-08-03T00:00:00.000     95-765-C  McLennan     11180000   \n",
              "1  2021-02-01T00:00:00.000     97-396-C  McLennan     11990003   \n",
              "2  2006-09-02T00:00:00.000  86CR-1234-B    Nueces     09150000   \n",
              "3  2022-12-02T00:00:00.000      1144294    Harris     12990002   \n",
              "4  2013-06-18T00:00:00.000  04CR-16,149    Shelby     11990003   \n",
              "\n",
              "          tdcj_offense            sentence_date             offense_date  \\\n",
              "0   AGG SEXUAL ASSAULT  1996-08-13T00:00:00.000  1995-09-15T00:00:00.000   \n",
              "1         AGG SEX ASLT  1998-08-05T00:00:00.000  1996-06-01T00:00:00.000   \n",
              "2  MURDER W/DEADLY WPN  1987-04-13T00:00:00.000  1986-09-02T00:00:00.000   \n",
              "3     AGG ROBBERY W/DW  2008-02-21T00:00:00.000  2007-12-03T00:00:00.000   \n",
              "4      AGG SEXUAL ALST  2004-05-13T00:00:00.000  1999-07-24T00:00:00.000   \n",
              "\n",
              "  sentence_years    last_parole_decision next_parole_review_date  \\\n",
              "0           Life                    None              08/03/2026   \n",
              "1           45.0  Approved on 08/18/2021                     N/A   \n",
              "2           Life    Denied on 07/21/2021                 07/2024   \n",
              "3           30.0                    None              12/02/2022   \n",
              "4           20.0    Denied on 10/30/2019                 09/2022   \n",
              "\n",
              "    parole_review_status  \n",
              "0  NOT IN REVIEW PROCESS  \n",
              "1  NOT IN REVIEW PROCESS  \n",
              "2  NOT IN REVIEW PROCESS  \n",
              "3  NOT IN REVIEW PROCESS  \n",
              "4  NOT IN REVIEW PROCESS  "
            ],
            "text/html": [
              "\n",
              "  <div id=\"df-466f1619-57ae-44c6-9e3c-7f5d27730a23\">\n",
              "    <div class=\"colab-df-container\">\n",
              "      <div>\n",
              "<style scoped>\n",
              "    .dataframe tbody tr th:only-of-type {\n",
              "        vertical-align: middle;\n",
              "    }\n",
              "\n",
              "    .dataframe tbody tr th {\n",
              "        vertical-align: top;\n",
              "    }\n",
              "\n",
              "    .dataframe thead th {\n",
              "        text-align: right;\n",
              "    }\n",
              "</style>\n",
              "<table border=\"1\" class=\"dataframe\">\n",
              "  <thead>\n",
              "    <tr style=\"text-align: right;\">\n",
              "      <th></th>\n",
              "      <th>sid_number</th>\n",
              "      <th>tdcj_number</th>\n",
              "      <th>name</th>\n",
              "      <th>current_facility</th>\n",
              "      <th>gender</th>\n",
              "      <th>race</th>\n",
              "      <th>age</th>\n",
              "      <th>projected_release</th>\n",
              "      <th>maximum_sentence_date</th>\n",
              "      <th>parole_eligibility_date</th>\n",
              "      <th>case_number</th>\n",
              "      <th>county</th>\n",
              "      <th>offense_code</th>\n",
              "      <th>tdcj_offense</th>\n",
              "      <th>sentence_date</th>\n",
              "      <th>offense_date</th>\n",
              "      <th>sentence_years</th>\n",
              "      <th>last_parole_decision</th>\n",
              "      <th>next_parole_review_date</th>\n",
              "      <th>parole_review_status</th>\n",
              "    </tr>\n",
              "  </thead>\n",
              "  <tbody>\n",
              "    <tr>\n",
              "      <th>0</th>\n",
              "      <td>00524524</td>\n",
              "      <td>00758486</td>\n",
              "      <td>HARPER,DAVID JOHN JR</td>\n",
              "      <td>Estelle</td>\n",
              "      <td>M</td>\n",
              "      <td>W</td>\n",
              "      <td>93</td>\n",
              "      <td>9999-01-01T00:00:00.000</td>\n",
              "      <td>9999-01-01T00:00:00.000</td>\n",
              "      <td>2026-08-03T00:00:00.000</td>\n",
              "      <td>95-765-C</td>\n",
              "      <td>McLennan</td>\n",
              "      <td>11180000</td>\n",
              "      <td>AGG SEXUAL ASSAULT</td>\n",
              "      <td>1996-08-13T00:00:00.000</td>\n",
              "      <td>1995-09-15T00:00:00.000</td>\n",
              "      <td>Life</td>\n",
              "      <td>None</td>\n",
              "      <td>08/03/2026</td>\n",
              "      <td>NOT IN REVIEW PROCESS</td>\n",
              "    </tr>\n",
              "    <tr>\n",
              "      <th>1</th>\n",
              "      <td>00703267</td>\n",
              "      <td>00841623</td>\n",
              "      <td>RODRIGUEZ,THEODORE</td>\n",
              "      <td>Hospital Galveston</td>\n",
              "      <td>M</td>\n",
              "      <td>W</td>\n",
              "      <td>84</td>\n",
              "      <td>2022-03-01T00:00:00.000</td>\n",
              "      <td>2043-08-03T00:00:00.000</td>\n",
              "      <td>2021-02-01T00:00:00.000</td>\n",
              "      <td>97-396-C</td>\n",
              "      <td>McLennan</td>\n",
              "      <td>11990003</td>\n",
              "      <td>AGG SEX ASLT</td>\n",
              "      <td>1998-08-05T00:00:00.000</td>\n",
              "      <td>1996-06-01T00:00:00.000</td>\n",
              "      <td>45.0</td>\n",
              "      <td>Approved on 08/18/2021</td>\n",
              "      <td>N/A</td>\n",
              "      <td>NOT IN REVIEW PROCESS</td>\n",
              "    </tr>\n",
              "    <tr>\n",
              "      <th>2</th>\n",
              "      <td>00770626</td>\n",
              "      <td>00449674</td>\n",
              "      <td>FLORES,ISABEL</td>\n",
              "      <td>Pack</td>\n",
              "      <td>M</td>\n",
              "      <td>H</td>\n",
              "      <td>84</td>\n",
              "      <td>9999-01-01T00:00:00.000</td>\n",
              "      <td>9999-01-01T00:00:00.000</td>\n",
              "      <td>2006-09-02T00:00:00.000</td>\n",
              "      <td>86CR-1234-B</td>\n",
              "      <td>Nueces</td>\n",
              "      <td>09150000</td>\n",
              "      <td>MURDER W/DEADLY WPN</td>\n",
              "      <td>1987-04-13T00:00:00.000</td>\n",
              "      <td>1986-09-02T00:00:00.000</td>\n",
              "      <td>Life</td>\n",
              "      <td>Denied on 07/21/2021</td>\n",
              "      <td>07/2024</td>\n",
              "      <td>NOT IN REVIEW PROCESS</td>\n",
              "    </tr>\n",
              "    <tr>\n",
              "      <th>3</th>\n",
              "      <td>00771601</td>\n",
              "      <td>01491019</td>\n",
              "      <td>MOLETT,JOHN HENRY</td>\n",
              "      <td>W. Scott</td>\n",
              "      <td>M</td>\n",
              "      <td>B</td>\n",
              "      <td>79</td>\n",
              "      <td>2037-12-02T00:00:00.000</td>\n",
              "      <td>2037-12-02T00:00:00.000</td>\n",
              "      <td>2022-12-02T00:00:00.000</td>\n",
              "      <td>1144294</td>\n",
              "      <td>Harris</td>\n",
              "      <td>12990002</td>\n",
              "      <td>AGG ROBBERY W/DW</td>\n",
              "      <td>2008-02-21T00:00:00.000</td>\n",
              "      <td>2007-12-03T00:00:00.000</td>\n",
              "      <td>30.0</td>\n",
              "      <td>None</td>\n",
              "      <td>12/02/2022</td>\n",
              "      <td>NOT IN REVIEW PROCESS</td>\n",
              "    </tr>\n",
              "    <tr>\n",
              "      <th>4</th>\n",
              "      <td>00779423</td>\n",
              "      <td>01241039</td>\n",
              "      <td>CARAWAY,LEON JR</td>\n",
              "      <td>C.T. Terrell</td>\n",
              "      <td>M</td>\n",
              "      <td>B</td>\n",
              "      <td>84</td>\n",
              "      <td>2023-06-19T00:00:00.000</td>\n",
              "      <td>2023-06-19T00:00:00.000</td>\n",
              "      <td>2013-06-18T00:00:00.000</td>\n",
              "      <td>04CR-16,149</td>\n",
              "      <td>Shelby</td>\n",
              "      <td>11990003</td>\n",
              "      <td>AGG SEXUAL ALST</td>\n",
              "      <td>2004-05-13T00:00:00.000</td>\n",
              "      <td>1999-07-24T00:00:00.000</td>\n",
              "      <td>20.0</td>\n",
              "      <td>Denied on 10/30/2019</td>\n",
              "      <td>09/2022</td>\n",
              "      <td>NOT IN REVIEW PROCESS</td>\n",
              "    </tr>\n",
              "  </tbody>\n",
              "</table>\n",
              "</div>\n",
              "      <button class=\"colab-df-convert\" onclick=\"convertToInteractive('df-466f1619-57ae-44c6-9e3c-7f5d27730a23')\"\n",
              "              title=\"Convert this dataframe to an interactive table.\"\n",
              "              style=\"display:none;\">\n",
              "        \n",
              "  <svg xmlns=\"http://www.w3.org/2000/svg\" height=\"24px\"viewBox=\"0 0 24 24\"\n",
              "       width=\"24px\">\n",
              "    <path d=\"M0 0h24v24H0V0z\" fill=\"none\"/>\n",
              "    <path d=\"M18.56 5.44l.94 2.06.94-2.06 2.06-.94-2.06-.94-.94-2.06-.94 2.06-2.06.94zm-11 1L8.5 8.5l.94-2.06 2.06-.94-2.06-.94L8.5 2.5l-.94 2.06-2.06.94zm10 10l.94 2.06.94-2.06 2.06-.94-2.06-.94-.94-2.06-.94 2.06-2.06.94z\"/><path d=\"M17.41 7.96l-1.37-1.37c-.4-.4-.92-.59-1.43-.59-.52 0-1.04.2-1.43.59L10.3 9.45l-7.72 7.72c-.78.78-.78 2.05 0 2.83L4 21.41c.39.39.9.59 1.41.59.51 0 1.02-.2 1.41-.59l7.78-7.78 2.81-2.81c.8-.78.8-2.07 0-2.86zM5.41 20L4 18.59l7.72-7.72 1.47 1.35L5.41 20z\"/>\n",
              "  </svg>\n",
              "      </button>\n",
              "      \n",
              "  <style>\n",
              "    .colab-df-container {\n",
              "      display:flex;\n",
              "      flex-wrap:wrap;\n",
              "      gap: 12px;\n",
              "    }\n",
              "\n",
              "    .colab-df-convert {\n",
              "      background-color: #E8F0FE;\n",
              "      border: none;\n",
              "      border-radius: 50%;\n",
              "      cursor: pointer;\n",
              "      display: none;\n",
              "      fill: #1967D2;\n",
              "      height: 32px;\n",
              "      padding: 0 0 0 0;\n",
              "      width: 32px;\n",
              "    }\n",
              "\n",
              "    .colab-df-convert:hover {\n",
              "      background-color: #E2EBFA;\n",
              "      box-shadow: 0px 1px 2px rgba(60, 64, 67, 0.3), 0px 1px 3px 1px rgba(60, 64, 67, 0.15);\n",
              "      fill: #174EA6;\n",
              "    }\n",
              "\n",
              "    [theme=dark] .colab-df-convert {\n",
              "      background-color: #3B4455;\n",
              "      fill: #D2E3FC;\n",
              "    }\n",
              "\n",
              "    [theme=dark] .colab-df-convert:hover {\n",
              "      background-color: #434B5C;\n",
              "      box-shadow: 0px 1px 3px 1px rgba(0, 0, 0, 0.15);\n",
              "      filter: drop-shadow(0px 1px 2px rgba(0, 0, 0, 0.3));\n",
              "      fill: #FFFFFF;\n",
              "    }\n",
              "  </style>\n",
              "\n",
              "      <script>\n",
              "        const buttonEl =\n",
              "          document.querySelector('#df-466f1619-57ae-44c6-9e3c-7f5d27730a23 button.colab-df-convert');\n",
              "        buttonEl.style.display =\n",
              "          google.colab.kernel.accessAllowed ? 'block' : 'none';\n",
              "\n",
              "        async function convertToInteractive(key) {\n",
              "          const element = document.querySelector('#df-466f1619-57ae-44c6-9e3c-7f5d27730a23');\n",
              "          const dataTable =\n",
              "            await google.colab.kernel.invokeFunction('convertToInteractive',\n",
              "                                                     [key], {});\n",
              "          if (!dataTable) return;\n",
              "\n",
              "          const docLinkHtml = 'Like what you see? Visit the ' +\n",
              "            '<a target=\"_blank\" href=https://colab.research.google.com/notebooks/data_table.ipynb>data table notebook</a>'\n",
              "            + ' to learn more about interactive tables.';\n",
              "          element.innerHTML = '';\n",
              "          dataTable['output_type'] = 'display_data';\n",
              "          await google.colab.output.renderOutput(dataTable, element);\n",
              "          const docLink = document.createElement('div');\n",
              "          docLink.innerHTML = docLinkHtml;\n",
              "          element.appendChild(docLink);\n",
              "        }\n",
              "      </script>\n",
              "    </div>\n",
              "  </div>\n",
              "  "
            ]
          },
          "metadata": {},
          "execution_count": 3
        }
      ]
    },
    {
      "cell_type": "markdown",
      "source": [
        "We have successfully loaded our Dataframe into our notebook, now let's explore it a little bit so we can begin to get an idea of what the data looks like"
      ],
      "metadata": {
        "id": "K0_Q2asqKHf2"
      }
    },
    {
      "cell_type": "code",
      "source": [
        "inmates.info()"
      ],
      "metadata": {
        "colab": {
          "base_uri": "https://localhost:8080/"
        },
        "id": "BxaGYzYAIfpl",
        "outputId": "6730583e-7742-4738-b756-f5f18b976682"
      },
      "execution_count": null,
      "outputs": [
        {
          "output_type": "stream",
          "name": "stdout",
          "text": [
            "<class 'pandas.core.frame.DataFrame'>\n",
            "RangeIndex: 1000 entries, 0 to 999\n",
            "Data columns (total 20 columns):\n",
            " #   Column                   Non-Null Count  Dtype \n",
            "---  ------                   --------------  ----- \n",
            " 0   sid_number               1000 non-null   object\n",
            " 1   tdcj_number              1000 non-null   object\n",
            " 2   name                     1000 non-null   object\n",
            " 3   current_facility         1000 non-null   object\n",
            " 4   gender                   1000 non-null   object\n",
            " 5   race                     1000 non-null   object\n",
            " 6   age                      1000 non-null   object\n",
            " 7   projected_release        1000 non-null   object\n",
            " 8   maximum_sentence_date    1000 non-null   object\n",
            " 9   parole_eligibility_date  974 non-null    object\n",
            " 10  case_number              1000 non-null   object\n",
            " 11  county                   1000 non-null   object\n",
            " 12  offense_code             1000 non-null   object\n",
            " 13  tdcj_offense             1000 non-null   object\n",
            " 14  sentence_date            1000 non-null   object\n",
            " 15  offense_date             1000 non-null   object\n",
            " 16  sentence_years           1000 non-null   object\n",
            " 17  last_parole_decision     965 non-null    object\n",
            " 18  next_parole_review_date  965 non-null    object\n",
            " 19  parole_review_status     965 non-null    object\n",
            "dtypes: object(20)\n",
            "memory usage: 156.4+ KB\n"
          ]
        }
      ]
    },
    {
      "cell_type": "markdown",
      "source": [
        "Because the website only allows a certain number of requests we were only able to retrieve the first 1000 entries of the data. I have locally downloaded the csv file of the dataset. Although this may take more time to execute. We will try working with the full dataset first and can always come back to this one retrieved from the API, So long as the entries are randomly sorted. We can find that out by digging through the full dataset."
      ],
      "metadata": {
        "id": "CYcP1YDILXK1"
      }
    },
    {
      "cell_type": "markdown",
      "source": [
        "## Load and Clean the Data"
      ],
      "metadata": {
        "id": "iTw8z6qZthI1"
      }
    },
    {
      "cell_type": "code",
      "source": [
        "from google.colab import files\n",
        "uploaded = files.upload() # upload method of files object\n"
      ],
      "metadata": {
        "colab": {
          "resources": {
            "http://localhost:8080/nbextensions/google.colab/files.js": {
              "data": "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",
              "ok": true,
              "headers": [
                [
                  "content-type",
                  "application/javascript"
                ]
              ],
              "status": 200,
              "status_text": ""
            }
          },
          "base_uri": "https://localhost:8080/",
          "height": 73
        },
        "id": "0h6_BcrhKtur",
        "outputId": "11df50b3-b403-46fb-f51f-0a8a54529d6d"
      },
      "execution_count": null,
      "outputs": [
        {
          "output_type": "display_data",
          "data": {
            "text/plain": [
              "<IPython.core.display.HTML object>"
            ],
            "text/html": [
              "\n",
              "     <input type=\"file\" id=\"files-559cf791-01d9-4f4f-9a6d-085ef24450e7\" name=\"files[]\" multiple disabled\n",
              "        style=\"border:none\" />\n",
              "     <output id=\"result-559cf791-01d9-4f4f-9a6d-085ef24450e7\">\n",
              "      Upload widget is only available when the cell has been executed in the\n",
              "      current browser session. Please rerun this cell to enable.\n",
              "      </output>\n",
              "      <script src=\"/nbextensions/google.colab/files.js\"></script> "
            ]
          },
          "metadata": {}
        },
        {
          "output_type": "stream",
          "name": "stdout",
          "text": [
            "Saving High_Value_Dataset__February_2022.csv to High_Value_Dataset__February_2022.csv\n"
          ]
        }
      ]
    },
    {
      "cell_type": "code",
      "source": [
        "import io\n",
        "prisoners = pd.read_csv(io.BytesIO(uploaded['High_Value_Dataset__February_2022.csv']))"
      ],
      "metadata": {
        "id": "ZH2iWJJdVX-d"
      },
      "execution_count": null,
      "outputs": []
    },
    {
      "cell_type": "code",
      "source": [
        "prisoners.head()"
      ],
      "metadata": {
        "colab": {
          "base_uri": "https://localhost:8080/",
          "height": 496
        },
        "id": "uE4jHGXQbw7q",
        "outputId": "f868581f-c290-4dcc-c212-d7910a291cdb"
      },
      "execution_count": null,
      "outputs": [
        {
          "output_type": "execute_result",
          "data": {
            "text/plain": [
              "   SID Number  TDCJ Number                  Name    Current Facility Gender  \\\n",
              "0      524524       758486  HARPER,DAVID JOHN JR             Estelle      M   \n",
              "1      703267       841623    RODRIGUEZ,THEODORE  Hospital Galveston      M   \n",
              "2      770626       449674         FLORES,ISABEL                Pack      M   \n",
              "3      771601      1491019     MOLETT,JOHN HENRY            W. Scott      M   \n",
              "4      779423      1241039       CARAWAY,LEON JR        C.T. Terrell      M   \n",
              "\n",
              "  Race  Age Projected Release Maximum Sentence Date Parole Eligibility Date  \\\n",
              "0    W   93          1/1/9999              1/1/9999                8/3/2026   \n",
              "1    W   84          3/1/2022              8/3/2043                2/1/2021   \n",
              "2    H   84          1/1/9999              1/1/9999                9/2/2006   \n",
              "3    B   79         12/2/2037             12/2/2037               12/2/2022   \n",
              "4    B   84         6/19/2023             6/19/2023               6/18/2013   \n",
              "\n",
              "   Case Number    County  Offense Code         TDCJ Offense Sentence Date  \\\n",
              "0     95-765-C  McLennan      11180000   AGG SEXUAL ASSAULT     8/13/1996   \n",
              "1     97-396-C  McLennan      11990003         AGG SEX ASLT      8/5/1998   \n",
              "2  86CR-1234-B    Nueces       9150000  MURDER W/DEADLY WPN     4/13/1987   \n",
              "3      1144294    Harris      12990002     AGG ROBBERY W/DW     2/21/2008   \n",
              "4  04CR-16,149    Shelby      11990003      AGG SEXUAL ALST     5/13/2004   \n",
              "\n",
              "  Offense Date Sentence (Years)    Last Parole Decision  \\\n",
              "0    9/15/1995             Life                    None   \n",
              "1     6/1/1996               45  Approved on 08/18/2021   \n",
              "2     9/2/1986             Life    Denied on 07/21/2021   \n",
              "3    12/3/2007               30                    None   \n",
              "4    7/24/1999               20    Denied on 10/30/2019   \n",
              "\n",
              "  Next Parole Review Date   Parole Review Status  \n",
              "0                8/3/2026  NOT IN REVIEW PROCESS  \n",
              "1                     NaN  NOT IN REVIEW PROCESS  \n",
              "2                  Jul-24  NOT IN REVIEW PROCESS  \n",
              "3               12/2/2022  NOT IN REVIEW PROCESS  \n",
              "4                  Sep-22  NOT IN REVIEW PROCESS  "
            ],
            "text/html": [
              "\n",
              "  <div id=\"df-3353dbd9-2489-463a-97bd-c46ca113b623\">\n",
              "    <div class=\"colab-df-container\">\n",
              "      <div>\n",
              "<style scoped>\n",
              "    .dataframe tbody tr th:only-of-type {\n",
              "        vertical-align: middle;\n",
              "    }\n",
              "\n",
              "    .dataframe tbody tr th {\n",
              "        vertical-align: top;\n",
              "    }\n",
              "\n",
              "    .dataframe thead th {\n",
              "        text-align: right;\n",
              "    }\n",
              "</style>\n",
              "<table border=\"1\" class=\"dataframe\">\n",
              "  <thead>\n",
              "    <tr style=\"text-align: right;\">\n",
              "      <th></th>\n",
              "      <th>SID Number</th>\n",
              "      <th>TDCJ Number</th>\n",
              "      <th>Name</th>\n",
              "      <th>Current Facility</th>\n",
              "      <th>Gender</th>\n",
              "      <th>Race</th>\n",
              "      <th>Age</th>\n",
              "      <th>Projected Release</th>\n",
              "      <th>Maximum Sentence Date</th>\n",
              "      <th>Parole Eligibility Date</th>\n",
              "      <th>Case Number</th>\n",
              "      <th>County</th>\n",
              "      <th>Offense Code</th>\n",
              "      <th>TDCJ Offense</th>\n",
              "      <th>Sentence Date</th>\n",
              "      <th>Offense Date</th>\n",
              "      <th>Sentence (Years)</th>\n",
              "      <th>Last Parole Decision</th>\n",
              "      <th>Next Parole Review Date</th>\n",
              "      <th>Parole Review Status</th>\n",
              "    </tr>\n",
              "  </thead>\n",
              "  <tbody>\n",
              "    <tr>\n",
              "      <th>0</th>\n",
              "      <td>524524</td>\n",
              "      <td>758486</td>\n",
              "      <td>HARPER,DAVID JOHN JR</td>\n",
              "      <td>Estelle</td>\n",
              "      <td>M</td>\n",
              "      <td>W</td>\n",
              "      <td>93</td>\n",
              "      <td>1/1/9999</td>\n",
              "      <td>1/1/9999</td>\n",
              "      <td>8/3/2026</td>\n",
              "      <td>95-765-C</td>\n",
              "      <td>McLennan</td>\n",
              "      <td>11180000</td>\n",
              "      <td>AGG SEXUAL ASSAULT</td>\n",
              "      <td>8/13/1996</td>\n",
              "      <td>9/15/1995</td>\n",
              "      <td>Life</td>\n",
              "      <td>None</td>\n",
              "      <td>8/3/2026</td>\n",
              "      <td>NOT IN REVIEW PROCESS</td>\n",
              "    </tr>\n",
              "    <tr>\n",
              "      <th>1</th>\n",
              "      <td>703267</td>\n",
              "      <td>841623</td>\n",
              "      <td>RODRIGUEZ,THEODORE</td>\n",
              "      <td>Hospital Galveston</td>\n",
              "      <td>M</td>\n",
              "      <td>W</td>\n",
              "      <td>84</td>\n",
              "      <td>3/1/2022</td>\n",
              "      <td>8/3/2043</td>\n",
              "      <td>2/1/2021</td>\n",
              "      <td>97-396-C</td>\n",
              "      <td>McLennan</td>\n",
              "      <td>11990003</td>\n",
              "      <td>AGG SEX ASLT</td>\n",
              "      <td>8/5/1998</td>\n",
              "      <td>6/1/1996</td>\n",
              "      <td>45</td>\n",
              "      <td>Approved on 08/18/2021</td>\n",
              "      <td>NaN</td>\n",
              "      <td>NOT IN REVIEW PROCESS</td>\n",
              "    </tr>\n",
              "    <tr>\n",
              "      <th>2</th>\n",
              "      <td>770626</td>\n",
              "      <td>449674</td>\n",
              "      <td>FLORES,ISABEL</td>\n",
              "      <td>Pack</td>\n",
              "      <td>M</td>\n",
              "      <td>H</td>\n",
              "      <td>84</td>\n",
              "      <td>1/1/9999</td>\n",
              "      <td>1/1/9999</td>\n",
              "      <td>9/2/2006</td>\n",
              "      <td>86CR-1234-B</td>\n",
              "      <td>Nueces</td>\n",
              "      <td>9150000</td>\n",
              "      <td>MURDER W/DEADLY WPN</td>\n",
              "      <td>4/13/1987</td>\n",
              "      <td>9/2/1986</td>\n",
              "      <td>Life</td>\n",
              "      <td>Denied on 07/21/2021</td>\n",
              "      <td>Jul-24</td>\n",
              "      <td>NOT IN REVIEW PROCESS</td>\n",
              "    </tr>\n",
              "    <tr>\n",
              "      <th>3</th>\n",
              "      <td>771601</td>\n",
              "      <td>1491019</td>\n",
              "      <td>MOLETT,JOHN HENRY</td>\n",
              "      <td>W. Scott</td>\n",
              "      <td>M</td>\n",
              "      <td>B</td>\n",
              "      <td>79</td>\n",
              "      <td>12/2/2037</td>\n",
              "      <td>12/2/2037</td>\n",
              "      <td>12/2/2022</td>\n",
              "      <td>1144294</td>\n",
              "      <td>Harris</td>\n",
              "      <td>12990002</td>\n",
              "      <td>AGG ROBBERY W/DW</td>\n",
              "      <td>2/21/2008</td>\n",
              "      <td>12/3/2007</td>\n",
              "      <td>30</td>\n",
              "      <td>None</td>\n",
              "      <td>12/2/2022</td>\n",
              "      <td>NOT IN REVIEW PROCESS</td>\n",
              "    </tr>\n",
              "    <tr>\n",
              "      <th>4</th>\n",
              "      <td>779423</td>\n",
              "      <td>1241039</td>\n",
              "      <td>CARAWAY,LEON JR</td>\n",
              "      <td>C.T. Terrell</td>\n",
              "      <td>M</td>\n",
              "      <td>B</td>\n",
              "      <td>84</td>\n",
              "      <td>6/19/2023</td>\n",
              "      <td>6/19/2023</td>\n",
              "      <td>6/18/2013</td>\n",
              "      <td>04CR-16,149</td>\n",
              "      <td>Shelby</td>\n",
              "      <td>11990003</td>\n",
              "      <td>AGG SEXUAL ALST</td>\n",
              "      <td>5/13/2004</td>\n",
              "      <td>7/24/1999</td>\n",
              "      <td>20</td>\n",
              "      <td>Denied on 10/30/2019</td>\n",
              "      <td>Sep-22</td>\n",
              "      <td>NOT IN REVIEW PROCESS</td>\n",
              "    </tr>\n",
              "  </tbody>\n",
              "</table>\n",
              "</div>\n",
              "      <button class=\"colab-df-convert\" onclick=\"convertToInteractive('df-3353dbd9-2489-463a-97bd-c46ca113b623')\"\n",
              "              title=\"Convert this dataframe to an interactive table.\"\n",
              "              style=\"display:none;\">\n",
              "        \n",
              "  <svg xmlns=\"http://www.w3.org/2000/svg\" height=\"24px\"viewBox=\"0 0 24 24\"\n",
              "       width=\"24px\">\n",
              "    <path d=\"M0 0h24v24H0V0z\" fill=\"none\"/>\n",
              "    <path d=\"M18.56 5.44l.94 2.06.94-2.06 2.06-.94-2.06-.94-.94-2.06-.94 2.06-2.06.94zm-11 1L8.5 8.5l.94-2.06 2.06-.94-2.06-.94L8.5 2.5l-.94 2.06-2.06.94zm10 10l.94 2.06.94-2.06 2.06-.94-2.06-.94-.94-2.06-.94 2.06-2.06.94z\"/><path d=\"M17.41 7.96l-1.37-1.37c-.4-.4-.92-.59-1.43-.59-.52 0-1.04.2-1.43.59L10.3 9.45l-7.72 7.72c-.78.78-.78 2.05 0 2.83L4 21.41c.39.39.9.59 1.41.59.51 0 1.02-.2 1.41-.59l7.78-7.78 2.81-2.81c.8-.78.8-2.07 0-2.86zM5.41 20L4 18.59l7.72-7.72 1.47 1.35L5.41 20z\"/>\n",
              "  </svg>\n",
              "      </button>\n",
              "      \n",
              "  <style>\n",
              "    .colab-df-container {\n",
              "      display:flex;\n",
              "      flex-wrap:wrap;\n",
              "      gap: 12px;\n",
              "    }\n",
              "\n",
              "    .colab-df-convert {\n",
              "      background-color: #E8F0FE;\n",
              "      border: none;\n",
              "      border-radius: 50%;\n",
              "      cursor: pointer;\n",
              "      display: none;\n",
              "      fill: #1967D2;\n",
              "      height: 32px;\n",
              "      padding: 0 0 0 0;\n",
              "      width: 32px;\n",
              "    }\n",
              "\n",
              "    .colab-df-convert:hover {\n",
              "      background-color: #E2EBFA;\n",
              "      box-shadow: 0px 1px 2px rgba(60, 64, 67, 0.3), 0px 1px 3px 1px rgba(60, 64, 67, 0.15);\n",
              "      fill: #174EA6;\n",
              "    }\n",
              "\n",
              "    [theme=dark] .colab-df-convert {\n",
              "      background-color: #3B4455;\n",
              "      fill: #D2E3FC;\n",
              "    }\n",
              "\n",
              "    [theme=dark] .colab-df-convert:hover {\n",
              "      background-color: #434B5C;\n",
              "      box-shadow: 0px 1px 3px 1px rgba(0, 0, 0, 0.15);\n",
              "      filter: drop-shadow(0px 1px 2px rgba(0, 0, 0, 0.3));\n",
              "      fill: #FFFFFF;\n",
              "    }\n",
              "  </style>\n",
              "\n",
              "      <script>\n",
              "        const buttonEl =\n",
              "          document.querySelector('#df-3353dbd9-2489-463a-97bd-c46ca113b623 button.colab-df-convert');\n",
              "        buttonEl.style.display =\n",
              "          google.colab.kernel.accessAllowed ? 'block' : 'none';\n",
              "\n",
              "        async function convertToInteractive(key) {\n",
              "          const element = document.querySelector('#df-3353dbd9-2489-463a-97bd-c46ca113b623');\n",
              "          const dataTable =\n",
              "            await google.colab.kernel.invokeFunction('convertToInteractive',\n",
              "                                                     [key], {});\n",
              "          if (!dataTable) return;\n",
              "\n",
              "          const docLinkHtml = 'Like what you see? Visit the ' +\n",
              "            '<a target=\"_blank\" href=https://colab.research.google.com/notebooks/data_table.ipynb>data table notebook</a>'\n",
              "            + ' to learn more about interactive tables.';\n",
              "          element.innerHTML = '';\n",
              "          dataTable['output_type'] = 'display_data';\n",
              "          await google.colab.output.renderOutput(dataTable, element);\n",
              "          const docLink = document.createElement('div');\n",
              "          docLink.innerHTML = docLinkHtml;\n",
              "          element.appendChild(docLink);\n",
              "        }\n",
              "      </script>\n",
              "    </div>\n",
              "  </div>\n",
              "  "
            ]
          },
          "metadata": {},
          "execution_count": 5
        }
      ]
    },
    {
      "cell_type": "code",
      "source": [
        "prisoners.describe().transpose()"
      ],
      "metadata": {
        "colab": {
          "base_uri": "https://localhost:8080/",
          "height": 175
        },
        "id": "QBN86U9ydEZA",
        "outputId": "ca788eb5-994c-4ef8-e08c-0472b8e0c0b5"
      },
      "execution_count": null,
      "outputs": [
        {
          "output_type": "execute_result",
          "data": {
            "text/plain": [
              "                 count          mean           std        min         25%  \\\n",
              "SID Number    118277.0  1.196195e+07  1.401051e+07   524524.0   5234234.0   \n",
              "TDCJ Number   118277.0  1.979011e+06  4.922929e+05      577.0   1798464.0   \n",
              "Age           118277.0  4.091260e+01  1.244702e+01       16.0        31.0   \n",
              "Offense Code  118277.0  2.356433e+07  1.559207e+07  9000001.0  11990004.0   \n",
              "\n",
              "                     50%         75%         max  \n",
              "SID Number     6867952.0   8655362.0  96414913.0  \n",
              "TDCJ Number    2197728.0   2334998.0   2380836.0  \n",
              "Age                 39.0        49.0        93.0  \n",
              "Offense Code  13150011.0  35990014.0  73991073.0  "
            ],
            "text/html": [
              "\n",
              "  <div id=\"df-1ec6f0d6-c5bf-458c-883a-79c723dad156\">\n",
              "    <div class=\"colab-df-container\">\n",
              "      <div>\n",
              "<style scoped>\n",
              "    .dataframe tbody tr th:only-of-type {\n",
              "        vertical-align: middle;\n",
              "    }\n",
              "\n",
              "    .dataframe tbody tr th {\n",
              "        vertical-align: top;\n",
              "    }\n",
              "\n",
              "    .dataframe thead th {\n",
              "        text-align: right;\n",
              "    }\n",
              "</style>\n",
              "<table border=\"1\" class=\"dataframe\">\n",
              "  <thead>\n",
              "    <tr style=\"text-align: right;\">\n",
              "      <th></th>\n",
              "      <th>count</th>\n",
              "      <th>mean</th>\n",
              "      <th>std</th>\n",
              "      <th>min</th>\n",
              "      <th>25%</th>\n",
              "      <th>50%</th>\n",
              "      <th>75%</th>\n",
              "      <th>max</th>\n",
              "    </tr>\n",
              "  </thead>\n",
              "  <tbody>\n",
              "    <tr>\n",
              "      <th>SID Number</th>\n",
              "      <td>118277.0</td>\n",
              "      <td>1.196195e+07</td>\n",
              "      <td>1.401051e+07</td>\n",
              "      <td>524524.0</td>\n",
              "      <td>5234234.0</td>\n",
              "      <td>6867952.0</td>\n",
              "      <td>8655362.0</td>\n",
              "      <td>96414913.0</td>\n",
              "    </tr>\n",
              "    <tr>\n",
              "      <th>TDCJ Number</th>\n",
              "      <td>118277.0</td>\n",
              "      <td>1.979011e+06</td>\n",
              "      <td>4.922929e+05</td>\n",
              "      <td>577.0</td>\n",
              "      <td>1798464.0</td>\n",
              "      <td>2197728.0</td>\n",
              "      <td>2334998.0</td>\n",
              "      <td>2380836.0</td>\n",
              "    </tr>\n",
              "    <tr>\n",
              "      <th>Age</th>\n",
              "      <td>118277.0</td>\n",
              "      <td>4.091260e+01</td>\n",
              "      <td>1.244702e+01</td>\n",
              "      <td>16.0</td>\n",
              "      <td>31.0</td>\n",
              "      <td>39.0</td>\n",
              "      <td>49.0</td>\n",
              "      <td>93.0</td>\n",
              "    </tr>\n",
              "    <tr>\n",
              "      <th>Offense Code</th>\n",
              "      <td>118277.0</td>\n",
              "      <td>2.356433e+07</td>\n",
              "      <td>1.559207e+07</td>\n",
              "      <td>9000001.0</td>\n",
              "      <td>11990004.0</td>\n",
              "      <td>13150011.0</td>\n",
              "      <td>35990014.0</td>\n",
              "      <td>73991073.0</td>\n",
              "    </tr>\n",
              "  </tbody>\n",
              "</table>\n",
              "</div>\n",
              "      <button class=\"colab-df-convert\" onclick=\"convertToInteractive('df-1ec6f0d6-c5bf-458c-883a-79c723dad156')\"\n",
              "              title=\"Convert this dataframe to an interactive table.\"\n",
              "              style=\"display:none;\">\n",
              "        \n",
              "  <svg xmlns=\"http://www.w3.org/2000/svg\" height=\"24px\"viewBox=\"0 0 24 24\"\n",
              "       width=\"24px\">\n",
              "    <path d=\"M0 0h24v24H0V0z\" fill=\"none\"/>\n",
              "    <path d=\"M18.56 5.44l.94 2.06.94-2.06 2.06-.94-2.06-.94-.94-2.06-.94 2.06-2.06.94zm-11 1L8.5 8.5l.94-2.06 2.06-.94-2.06-.94L8.5 2.5l-.94 2.06-2.06.94zm10 10l.94 2.06.94-2.06 2.06-.94-2.06-.94-.94-2.06-.94 2.06-2.06.94z\"/><path d=\"M17.41 7.96l-1.37-1.37c-.4-.4-.92-.59-1.43-.59-.52 0-1.04.2-1.43.59L10.3 9.45l-7.72 7.72c-.78.78-.78 2.05 0 2.83L4 21.41c.39.39.9.59 1.41.59.51 0 1.02-.2 1.41-.59l7.78-7.78 2.81-2.81c.8-.78.8-2.07 0-2.86zM5.41 20L4 18.59l7.72-7.72 1.47 1.35L5.41 20z\"/>\n",
              "  </svg>\n",
              "      </button>\n",
              "      \n",
              "  <style>\n",
              "    .colab-df-container {\n",
              "      display:flex;\n",
              "      flex-wrap:wrap;\n",
              "      gap: 12px;\n",
              "    }\n",
              "\n",
              "    .colab-df-convert {\n",
              "      background-color: #E8F0FE;\n",
              "      border: none;\n",
              "      border-radius: 50%;\n",
              "      cursor: pointer;\n",
              "      display: none;\n",
              "      fill: #1967D2;\n",
              "      height: 32px;\n",
              "      padding: 0 0 0 0;\n",
              "      width: 32px;\n",
              "    }\n",
              "\n",
              "    .colab-df-convert:hover {\n",
              "      background-color: #E2EBFA;\n",
              "      box-shadow: 0px 1px 2px rgba(60, 64, 67, 0.3), 0px 1px 3px 1px rgba(60, 64, 67, 0.15);\n",
              "      fill: #174EA6;\n",
              "    }\n",
              "\n",
              "    [theme=dark] .colab-df-convert {\n",
              "      background-color: #3B4455;\n",
              "      fill: #D2E3FC;\n",
              "    }\n",
              "\n",
              "    [theme=dark] .colab-df-convert:hover {\n",
              "      background-color: #434B5C;\n",
              "      box-shadow: 0px 1px 3px 1px rgba(0, 0, 0, 0.15);\n",
              "      filter: drop-shadow(0px 1px 2px rgba(0, 0, 0, 0.3));\n",
              "      fill: #FFFFFF;\n",
              "    }\n",
              "  </style>\n",
              "\n",
              "      <script>\n",
              "        const buttonEl =\n",
              "          document.querySelector('#df-1ec6f0d6-c5bf-458c-883a-79c723dad156 button.colab-df-convert');\n",
              "        buttonEl.style.display =\n",
              "          google.colab.kernel.accessAllowed ? 'block' : 'none';\n",
              "\n",
              "        async function convertToInteractive(key) {\n",
              "          const element = document.querySelector('#df-1ec6f0d6-c5bf-458c-883a-79c723dad156');\n",
              "          const dataTable =\n",
              "            await google.colab.kernel.invokeFunction('convertToInteractive',\n",
              "                                                     [key], {});\n",
              "          if (!dataTable) return;\n",
              "\n",
              "          const docLinkHtml = 'Like what you see? Visit the ' +\n",
              "            '<a target=\"_blank\" href=https://colab.research.google.com/notebooks/data_table.ipynb>data table notebook</a>'\n",
              "            + ' to learn more about interactive tables.';\n",
              "          element.innerHTML = '';\n",
              "          dataTable['output_type'] = 'display_data';\n",
              "          await google.colab.output.renderOutput(dataTable, element);\n",
              "          const docLink = document.createElement('div');\n",
              "          docLink.innerHTML = docLinkHtml;\n",
              "          element.appendChild(docLink);\n",
              "        }\n",
              "      </script>\n",
              "    </div>\n",
              "  </div>\n",
              "  "
            ]
          },
          "metadata": {},
          "execution_count": 6
        }
      ]
    },
    {
      "cell_type": "markdown",
      "source": [
        "The only useful information here is the IQR for age, as the other numbers are arbitrary. 75% of all the inmates fall within the ages of 31 and 49"
      ],
      "metadata": {
        "id": "k4AQvVDAdmXy"
      }
    },
    {
      "cell_type": "code",
      "source": [
        "prisoners.info()"
      ],
      "metadata": {
        "colab": {
          "base_uri": "https://localhost:8080/"
        },
        "id": "gJ4t5hGodHLP",
        "outputId": "6c15e39f-68d6-44d7-ef56-bd44932832c8"
      },
      "execution_count": null,
      "outputs": [
        {
          "output_type": "stream",
          "name": "stdout",
          "text": [
            "<class 'pandas.core.frame.DataFrame'>\n",
            "RangeIndex: 118277 entries, 0 to 118276\n",
            "Data columns (total 20 columns):\n",
            " #   Column                   Non-Null Count   Dtype \n",
            "---  ------                   --------------   ----- \n",
            " 0   SID Number               118277 non-null  int64 \n",
            " 1   TDCJ Number              118277 non-null  int64 \n",
            " 2   Name                     118277 non-null  object\n",
            " 3   Current Facility         118277 non-null  object\n",
            " 4   Gender                   118277 non-null  object\n",
            " 5   Race                     118277 non-null  object\n",
            " 6   Age                      118277 non-null  int64 \n",
            " 7   Projected Release        118268 non-null  object\n",
            " 8   Maximum Sentence Date    117727 non-null  object\n",
            " 9   Parole Eligibility Date  107871 non-null  object\n",
            " 10  Case Number              118254 non-null  object\n",
            " 11  County                   118277 non-null  object\n",
            " 12  Offense Code             118277 non-null  int64 \n",
            " 13  TDCJ Offense             118277 non-null  object\n",
            " 14  Sentence Date            115715 non-null  object\n",
            " 15  Offense Date             118277 non-null  object\n",
            " 16  Sentence (Years)         118277 non-null  object\n",
            " 17  Last Parole Decision     108918 non-null  object\n",
            " 18  Next Parole Review Date  95186 non-null   object\n",
            " 19  Parole Review Status     108918 non-null  object\n",
            "dtypes: int64(4), object(16)\n",
            "memory usage: 18.0+ MB\n"
          ]
        }
      ]
    },
    {
      "cell_type": "markdown",
      "source": [
        "Because the target variable is sentence (Years), we won't be concerned with parole information, meaning we can get rid of the variables: 'Parole Eligibility Date', 'Last Parole Decision', 'Next Parole Review Date', 'Maximum Sentence Date', 'Projected Release' and 'Parole Review Status'."
      ],
      "metadata": {
        "id": "iRAA0vZXAGwy"
      }
    },
    {
      "cell_type": "code",
      "source": [
        "prisoners.drop(['Parole Eligibility Date', 'Last Parole Decision', 'Next Parole Review Date', 'Maximum Sentence Date', \n",
        "                'Projected Release','Parole Review Status','Name','SID Number','TDCJ Number','Case Number'],axis=1,inplace=True)"
      ],
      "metadata": {
        "id": "qCgsv5zdAglP"
      },
      "execution_count": null,
      "outputs": []
    },
    {
      "cell_type": "markdown",
      "source": [
        "Convert dates stored as strings into Datetimes"
      ],
      "metadata": {
        "id": "ffmvZoVBBxbx"
      }
    },
    {
      "cell_type": "code",
      "source": [
        "prisoners['Sentence Date'] = pd.to_datetime(prisoners['Sentence Date'],errors='coerce',format='%m/%d/%Y')\n",
        "prisoners['Offense Date'] = pd.to_datetime(prisoners['Offense Date'],errors='coerce',format='%m/%d/%Y')"
      ],
      "metadata": {
        "id": "Bq41ltaCCDhY"
      },
      "execution_count": null,
      "outputs": []
    },
    {
      "cell_type": "markdown",
      "source": [
        "Now we have our dataset which consists of 1 target variable and 9 descriptive variables. \n",
        "Because Life is listed as a sentence we need to find a way to replace 'Life' with an integer that does not corrupt the data."
      ],
      "metadata": {
        "id": "cP-yrGoDC81A"
      }
    },
    {
      "cell_type": "code",
      "source": [
        "len(prisoners[prisoners['Sentence (Years)'] == 'Life']) + len(prisoners[prisoners['Sentence (Years)'] == 'Capital Life'])"
      ],
      "metadata": {
        "colab": {
          "base_uri": "https://localhost:8080/"
        },
        "id": "N6tj5JA5S8fZ",
        "outputId": "082c8be5-895f-4787-c619-dc92d3ad420d"
      },
      "execution_count": null,
      "outputs": [
        {
          "output_type": "execute_result",
          "data": {
            "text/plain": [
              "7835"
            ]
          },
          "metadata": {},
          "execution_count": 10
        }
      ]
    },
    {
      "cell_type": "code",
      "source": [
        "prisoners = prisoners[prisoners['Sentence (Years)'] != 'Life']\n",
        "prisoners = prisoners[prisoners['Sentence (Years)'] != 'Capital Life']\n",
        "prisoners = prisoners[prisoners['Sentence (Years)'] != 'Death']\n",
        "prisoners = prisoners[prisoners['Sentence (Years)'] != 'LWOP']"
      ],
      "metadata": {
        "id": "llPkSUGVbel5"
      },
      "execution_count": null,
      "outputs": []
    },
    {
      "cell_type": "code",
      "source": [
        "prisoners['Sentence (Years)'] = prisoners['Sentence (Years)'].astype(float)"
      ],
      "metadata": {
        "id": "IlPxQAJ2gKLd"
      },
      "execution_count": null,
      "outputs": []
    },
    {
      "cell_type": "markdown",
      "source": [
        "There seem to be about 2,500 entries with missing values under the column 'Sentence Date'. Because none of the other columns have missing values, and because it is an insignificant number of missing values relative to the size of the dataset it is safe to remove those entries from the dataframe."
      ],
      "metadata": {
        "id": "fAG_EHJgsPIG"
      }
    },
    {
      "cell_type": "code",
      "source": [
        "prisoners.dropna(inplace=True)\n",
        "prisoners.info()"
      ],
      "metadata": {
        "colab": {
          "base_uri": "https://localhost:8080/"
        },
        "id": "CCrisvyYszRV",
        "outputId": "f1ac82da-ec2b-470d-9b7e-fb8297b6cb00"
      },
      "execution_count": null,
      "outputs": [
        {
          "output_type": "stream",
          "name": "stdout",
          "text": [
            "<class 'pandas.core.frame.DataFrame'>\n",
            "Int64Index: 106344 entries, 1 to 118274\n",
            "Data columns (total 10 columns):\n",
            " #   Column            Non-Null Count   Dtype         \n",
            "---  ------            --------------   -----         \n",
            " 0   Current Facility  106344 non-null  object        \n",
            " 1   Gender            106344 non-null  object        \n",
            " 2   Race              106344 non-null  object        \n",
            " 3   Age               106344 non-null  int64         \n",
            " 4   County            106344 non-null  object        \n",
            " 5   Offense Code      106344 non-null  int64         \n",
            " 6   TDCJ Offense      106344 non-null  object        \n",
            " 7   Sentence Date     106344 non-null  datetime64[ns]\n",
            " 8   Offense Date      106344 non-null  datetime64[ns]\n",
            " 9   Sentence (Years)  106344 non-null  float64       \n",
            "dtypes: datetime64[ns](2), float64(1), int64(2), object(5)\n",
            "memory usage: 8.9+ MB\n"
          ]
        }
      ]
    },
    {
      "cell_type": "markdown",
      "source": [
        "## Exploratory Data Analysis"
      ],
      "metadata": {
        "id": "ZcJ5kIZHEcGz"
      }
    },
    {
      "cell_type": "code",
      "source": [
        "plt.figure(figsize=(10,6))\n",
        "plt.xlim(0,110)\n",
        "plt.title('Distribution of Sentence Terms')\n",
        "sns.distplot(prisoners['Sentence (Years)'],bins=150,kde=False)"
      ],
      "metadata": {
        "colab": {
          "base_uri": "https://localhost:8080/",
          "height": 476
        },
        "id": "fgOiZ-Ucd7ym",
        "outputId": "f10f70a0-550e-4bd2-a544-5cd8ab7b83d9"
      },
      "execution_count": null,
      "outputs": [
        {
          "output_type": "stream",
          "name": "stderr",
          "text": [
            "/usr/local/lib/python3.7/dist-packages/seaborn/distributions.py:2619: FutureWarning: `distplot` is a deprecated function and will be removed in a future version. Please adapt your code to use either `displot` (a figure-level function with similar flexibility) or `histplot` (an axes-level function for histograms).\n",
            "  warnings.warn(msg, FutureWarning)\n"
          ]
        },
        {
          "output_type": "execute_result",
          "data": {
            "text/plain": [
              "<matplotlib.axes._subplots.AxesSubplot at 0x7f9a926cba10>"
            ]
          },
          "metadata": {},
          "execution_count": 14
        },
        {
          "output_type": "display_data",
          "data": {
            "text/plain": [
              "<Figure size 720x432 with 1 Axes>"
            ],
            "image/png": "[encoded data removed]"
          },
          "metadata": {
            "needs_background": "light"
          }
        }
      ]
    },
    {
      "cell_type": "code",
      "source": [
        "plt.title('Barplot of Race Serving Time')\n",
        "sns.countplot(prisoners['Race'])"
      ],
      "metadata": {
        "colab": {
          "base_uri": "https://localhost:8080/",
          "height": 367
        },
        "id": "FxIxmW_HpLqD",
        "outputId": "4e89d4e2-4dbd-487e-a21a-6a948e64ea51"
      },
      "execution_count": null,
      "outputs": [
        {
          "output_type": "stream",
          "name": "stderr",
          "text": [
            "/usr/local/lib/python3.7/dist-packages/seaborn/_decorators.py:43: FutureWarning: Pass the following variable as a keyword arg: x. From version 0.12, the only valid positional argument will be `data`, and passing other arguments without an explicit keyword will result in an error or misinterpretation.\n",
            "  FutureWarning\n"
          ]
        },
        {
          "output_type": "execute_result",
          "data": {
            "text/plain": [
              "<matplotlib.axes._subplots.AxesSubplot at 0x7f9a926bb790>"
            ]
          },
          "metadata": {},
          "execution_count": 15
        },
        {
          "output_type": "display_data",
          "data": {
            "text/plain": [
              "<Figure size 432x288 with 1 Axes>"
            ],
            "image/png": "[encoded data removed]"
          },
          "metadata": {
            "needs_background": "light"
          }
        }
      ]
    },
    {
      "cell_type": "code",
      "source": [
        "plt.title('Distribution of Prisoner Age')\n",
        "sns.distplot(prisoners['Age'])"
      ],
      "metadata": {
        "colab": {
          "base_uri": "https://localhost:8080/",
          "height": 367
        },
        "id": "huc4lQ1tfTto",
        "outputId": "f3bed6d4-d8bc-41e2-dada-d0f0ff30eb73"
      },
      "execution_count": null,
      "outputs": [
        {
          "output_type": "stream",
          "name": "stderr",
          "text": [
            "/usr/local/lib/python3.7/dist-packages/seaborn/distributions.py:2619: FutureWarning: `distplot` is a deprecated function and will be removed in a future version. Please adapt your code to use either `displot` (a figure-level function with similar flexibility) or `histplot` (an axes-level function for histograms).\n",
            "  warnings.warn(msg, FutureWarning)\n"
          ]
        },
        {
          "output_type": "execute_result",
          "data": {
            "text/plain": [
              "<matplotlib.axes._subplots.AxesSubplot at 0x7f9a91f9d890>"
            ]
          },
          "metadata": {},
          "execution_count": 16
        },
        {
          "output_type": "display_data",
          "data": {
            "text/plain": [
              "<Figure size 432x288 with 1 Axes>"
            ],
            "image/png": "[encoded data removed]"
          },
          "metadata": {
            "needs_background": "light"
          }
        }
      ]
    },
    {
      "cell_type": "code",
      "source": [
        ""
      ],
      "metadata": {
        "id": "pKSm_8P0fWPu"
      },
      "execution_count": null,
      "outputs": []
    },
    {
      "cell_type": "markdown",
      "source": [
        "There is a slight skew to the age distribution, however, this seems mostly due to several outliers, likely serving life sentences."
      ],
      "metadata": {
        "id": "KHLcCxCSgIuR"
      }
    },
    {
      "cell_type": "code",
      "source": [
        "prisoners['Offense Code'].nunique()"
      ],
      "metadata": {
        "colab": {
          "base_uri": "https://localhost:8080/"
        },
        "id": "I4ZXx8v_g7G1",
        "outputId": "8cf3b9d3-ebca-44bd-cfcc-81052a2d1883"
      },
      "execution_count": null,
      "outputs": [
        {
          "output_type": "execute_result",
          "data": {
            "text/plain": [
              "702"
            ]
          },
          "metadata": {},
          "execution_count": 17
        }
      ]
    },
    {
      "cell_type": "code",
      "source": [
        "prisoners['Current Facility'].nunique()"
      ],
      "metadata": {
        "colab": {
          "base_uri": "https://localhost:8080/"
        },
        "id": "NiBDNhu2ZHPN",
        "outputId": "bddbb0da-c708-469f-dbab-953d575100eb"
      },
      "execution_count": null,
      "outputs": [
        {
          "output_type": "execute_result",
          "data": {
            "text/plain": [
              "101"
            ]
          },
          "metadata": {},
          "execution_count": 18
        }
      ]
    },
    {
      "cell_type": "code",
      "source": [
        "county_mean = prisoners.groupby('County',as_index = False)['Sentence (Years)'].mean()\n",
        "county_mean.sort_values(by='Sentence (Years)',ascending=False)"
      ],
      "metadata": {
        "colab": {
          "base_uri": "https://localhost:8080/",
          "height": 423
        },
        "id": "oSvM9SBOck7f",
        "outputId": "fbfd4cf1-76d3-4200-932d-0d57c9bf02ad"
      },
      "execution_count": null,
      "outputs": [
        {
          "output_type": "execute_result",
          "data": {
            "text/plain": [
              "         County  Sentence (Years)\n",
              "121  Jeff Davis         36.500000\n",
              "22      Briscoe         33.333333\n",
              "53       Crosby         31.916667\n",
              "16       Borden         30.600000\n",
              "54    Culberson         30.000000\n",
              "..          ...               ...\n",
              "39      Cochran          7.870000\n",
              "130      Kenedy          7.454545\n",
              "86    Glasscock          5.950000\n",
              "214   Stonewall          5.500000\n",
              "77        Foard          5.000000\n",
              "\n",
              "[252 rows x 2 columns]"
            ],
            "text/html": [
              "\n",
              "  <div id=\"df-4a5aa66d-40f4-4055-baa6-beab1d3b619a\">\n",
              "    <div class=\"colab-df-container\">\n",
              "      <div>\n",
              "<style scoped>\n",
              "    .dataframe tbody tr th:only-of-type {\n",
              "        vertical-align: middle;\n",
              "    }\n",
              "\n",
              "    .dataframe tbody tr th {\n",
              "        vertical-align: top;\n",
              "    }\n",
              "\n",
              "    .dataframe thead th {\n",
              "        text-align: right;\n",
              "    }\n",
              "</style>\n",
              "<table border=\"1\" class=\"dataframe\">\n",
              "  <thead>\n",
              "    <tr style=\"text-align: right;\">\n",
              "      <th></th>\n",
              "      <th>County</th>\n",
              "      <th>Sentence (Years)</th>\n",
              "    </tr>\n",
              "  </thead>\n",
              "  <tbody>\n",
              "    <tr>\n",
              "      <th>121</th>\n",
              "      <td>Jeff Davis</td>\n",
              "      <td>36.500000</td>\n",
              "    </tr>\n",
              "    <tr>\n",
              "      <th>22</th>\n",
              "      <td>Briscoe</td>\n",
              "      <td>33.333333</td>\n",
              "    </tr>\n",
              "    <tr>\n",
              "      <th>53</th>\n",
              "      <td>Crosby</td>\n",
              "      <td>31.916667</td>\n",
              "    </tr>\n",
              "    <tr>\n",
              "      <th>16</th>\n",
              "      <td>Borden</td>\n",
              "      <td>30.600000</td>\n",
              "    </tr>\n",
              "    <tr>\n",
              "      <th>54</th>\n",
              "      <td>Culberson</td>\n",
              "      <td>30.000000</td>\n",
              "    </tr>\n",
              "    <tr>\n",
              "      <th>...</th>\n",
              "      <td>...</td>\n",
              "      <td>...</td>\n",
              "    </tr>\n",
              "    <tr>\n",
              "      <th>39</th>\n",
              "      <td>Cochran</td>\n",
              "      <td>7.870000</td>\n",
              "    </tr>\n",
              "    <tr>\n",
              "      <th>130</th>\n",
              "      <td>Kenedy</td>\n",
              "      <td>7.454545</td>\n",
              "    </tr>\n",
              "    <tr>\n",
              "      <th>86</th>\n",
              "      <td>Glasscock</td>\n",
              "      <td>5.950000</td>\n",
              "    </tr>\n",
              "    <tr>\n",
              "      <th>214</th>\n",
              "      <td>Stonewall</td>\n",
              "      <td>5.500000</td>\n",
              "    </tr>\n",
              "    <tr>\n",
              "      <th>77</th>\n",
              "      <td>Foard</td>\n",
              "      <td>5.000000</td>\n",
              "    </tr>\n",
              "  </tbody>\n",
              "</table>\n",
              "<p>252 rows × 2 columns</p>\n",
              "</div>\n",
              "      <button class=\"colab-df-convert\" onclick=\"convertToInteractive('df-4a5aa66d-40f4-4055-baa6-beab1d3b619a')\"\n",
              "              title=\"Convert this dataframe to an interactive table.\"\n",
              "              style=\"display:none;\">\n",
              "        \n",
              "  <svg xmlns=\"http://www.w3.org/2000/svg\" height=\"24px\"viewBox=\"0 0 24 24\"\n",
              "       width=\"24px\">\n",
              "    <path d=\"M0 0h24v24H0V0z\" fill=\"none\"/>\n",
              "    <path d=\"M18.56 5.44l.94 2.06.94-2.06 2.06-.94-2.06-.94-.94-2.06-.94 2.06-2.06.94zm-11 1L8.5 8.5l.94-2.06 2.06-.94-2.06-.94L8.5 2.5l-.94 2.06-2.06.94zm10 10l.94 2.06.94-2.06 2.06-.94-2.06-.94-.94-2.06-.94 2.06-2.06.94z\"/><path d=\"M17.41 7.96l-1.37-1.37c-.4-.4-.92-.59-1.43-.59-.52 0-1.04.2-1.43.59L10.3 9.45l-7.72 7.72c-.78.78-.78 2.05 0 2.83L4 21.41c.39.39.9.59 1.41.59.51 0 1.02-.2 1.41-.59l7.78-7.78 2.81-2.81c.8-.78.8-2.07 0-2.86zM5.41 20L4 18.59l7.72-7.72 1.47 1.35L5.41 20z\"/>\n",
              "  </svg>\n",
              "      </button>\n",
              "      \n",
              "  <style>\n",
              "    .colab-df-container {\n",
              "      display:flex;\n",
              "      flex-wrap:wrap;\n",
              "      gap: 12px;\n",
              "    }\n",
              "\n",
              "    .colab-df-convert {\n",
              "      background-color: #E8F0FE;\n",
              "      border: none;\n",
              "      border-radius: 50%;\n",
              "      cursor: pointer;\n",
              "      display: none;\n",
              "      fill: #1967D2;\n",
              "      height: 32px;\n",
              "      padding: 0 0 0 0;\n",
              "      width: 32px;\n",
              "    }\n",
              "\n",
              "    .colab-df-convert:hover {\n",
              "      background-color: #E2EBFA;\n",
              "      box-shadow: 0px 1px 2px rgba(60, 64, 67, 0.3), 0px 1px 3px 1px rgba(60, 64, 67, 0.15);\n",
              "      fill: #174EA6;\n",
              "    }\n",
              "\n",
              "    [theme=dark] .colab-df-convert {\n",
              "      background-color: #3B4455;\n",
              "      fill: #D2E3FC;\n",
              "    }\n",
              "\n",
              "    [theme=dark] .colab-df-convert:hover {\n",
              "      background-color: #434B5C;\n",
              "      box-shadow: 0px 1px 3px 1px rgba(0, 0, 0, 0.15);\n",
              "      filter: drop-shadow(0px 1px 2px rgba(0, 0, 0, 0.3));\n",
              "      fill: #FFFFFF;\n",
              "    }\n",
              "  </style>\n",
              "\n",
              "      <script>\n",
              "        const buttonEl =\n",
              "          document.querySelector('#df-4a5aa66d-40f4-4055-baa6-beab1d3b619a button.colab-df-convert');\n",
              "        buttonEl.style.display =\n",
              "          google.colab.kernel.accessAllowed ? 'block' : 'none';\n",
              "\n",
              "        async function convertToInteractive(key) {\n",
              "          const element = document.querySelector('#df-4a5aa66d-40f4-4055-baa6-beab1d3b619a');\n",
              "          const dataTable =\n",
              "            await google.colab.kernel.invokeFunction('convertToInteractive',\n",
              "                                                     [key], {});\n",
              "          if (!dataTable) return;\n",
              "\n",
              "          const docLinkHtml = 'Like what you see? Visit the ' +\n",
              "            '<a target=\"_blank\" href=https://colab.research.google.com/notebooks/data_table.ipynb>data table notebook</a>'\n",
              "            + ' to learn more about interactive tables.';\n",
              "          element.innerHTML = '';\n",
              "          dataTable['output_type'] = 'display_data';\n",
              "          await google.colab.output.renderOutput(dataTable, element);\n",
              "          const docLink = document.createElement('div');\n",
              "          docLink.innerHTML = docLinkHtml;\n",
              "          element.appendChild(docLink);\n",
              "        }\n",
              "      </script>\n",
              "    </div>\n",
              "  </div>\n",
              "  "
            ]
          },
          "metadata": {},
          "execution_count": 19
        }
      ]
    },
    {
      "cell_type": "code",
      "source": [
        "sns.distplot(county_mean['Sentence (Years)'])"
      ],
      "metadata": {
        "colab": {
          "base_uri": "https://localhost:8080/",
          "height": 351
        },
        "id": "UDgh0aeVkAV2",
        "outputId": "40930ef7-bafd-4fb4-c12a-26539da01ba9"
      },
      "execution_count": null,
      "outputs": [
        {
          "output_type": "stream",
          "name": "stderr",
          "text": [
            "/usr/local/lib/python3.7/dist-packages/seaborn/distributions.py:2619: FutureWarning: `distplot` is a deprecated function and will be removed in a future version. Please adapt your code to use either `displot` (a figure-level function with similar flexibility) or `histplot` (an axes-level function for histograms).\n",
            "  warnings.warn(msg, FutureWarning)\n"
          ]
        },
        {
          "output_type": "execute_result",
          "data": {
            "text/plain": [
              "<matplotlib.axes._subplots.AxesSubplot at 0x7f9a8fe11a50>"
            ]
          },
          "metadata": {},
          "execution_count": 20
        },
        {
          "output_type": "display_data",
          "data": {
            "text/plain": [
              "<Figure size 432x288 with 1 Axes>"
            ],
            "image/png": "[encoded data removed]"
          },
          "metadata": {
            "needs_background": "light"
          }
        }
      ]
    },
    {
      "cell_type": "markdown",
      "source": [
        ""
      ],
      "metadata": {
        "id": "vfu9taW9lg_L"
      }
    },
    {
      "cell_type": "code",
      "source": [
        "prisoners['Sentence (Years)'].mean()"
      ],
      "metadata": {
        "colab": {
          "base_uri": "https://localhost:8080/"
        },
        "id": "Fmb3k1Kyfd6g",
        "outputId": "18eb5592-0871-4bbf-b027-e385cc241d69"
      },
      "execution_count": null,
      "outputs": [
        {
          "output_type": "execute_result",
          "data": {
            "text/plain": [
              "18.672647257955152"
            ]
          },
          "metadata": {},
          "execution_count": 21
        }
      ]
    },
    {
      "cell_type": "code",
      "source": [
        "race_mean = prisoners.groupby('Race',as_index = False)['Sentence (Years)'].mean()\n",
        "race_mean.sort_values(by='Sentence (Years)',ascending=False)"
      ],
      "metadata": {
        "colab": {
          "base_uri": "https://localhost:8080/",
          "height": 237
        },
        "id": "q0b4ocsmrO0w",
        "outputId": "06947548-d15d-4d56-c0ae-6d6cec8e9317"
      },
      "execution_count": null,
      "outputs": [
        {
          "output_type": "execute_result",
          "data": {
            "text/plain": [
              "  Race  Sentence (Years)\n",
              "4    O         28.852294\n",
              "3    I         22.181818\n",
              "1    B         20.549486\n",
              "5    W         18.193405\n",
              "0    A         17.948529\n",
              "2    H         17.314316"
            ],
            "text/html": [
              "\n",
              "  <div id=\"df-2c8c355c-fa30-488b-9e9b-065bc1a74f42\">\n",
              "    <div class=\"colab-df-container\">\n",
              "      <div>\n",
              "<style scoped>\n",
              "    .dataframe tbody tr th:only-of-type {\n",
              "        vertical-align: middle;\n",
              "    }\n",
              "\n",
              "    .dataframe tbody tr th {\n",
              "        vertical-align: top;\n",
              "    }\n",
              "\n",
              "    .dataframe thead th {\n",
              "        text-align: right;\n",
              "    }\n",
              "</style>\n",
              "<table border=\"1\" class=\"dataframe\">\n",
              "  <thead>\n",
              "    <tr style=\"text-align: right;\">\n",
              "      <th></th>\n",
              "      <th>Race</th>\n",
              "      <th>Sentence (Years)</th>\n",
              "    </tr>\n",
              "  </thead>\n",
              "  <tbody>\n",
              "    <tr>\n",
              "      <th>4</th>\n",
              "      <td>O</td>\n",
              "      <td>28.852294</td>\n",
              "    </tr>\n",
              "    <tr>\n",
              "      <th>3</th>\n",
              "      <td>I</td>\n",
              "      <td>22.181818</td>\n",
              "    </tr>\n",
              "    <tr>\n",
              "      <th>1</th>\n",
              "      <td>B</td>\n",
              "      <td>20.549486</td>\n",
              "    </tr>\n",
              "    <tr>\n",
              "      <th>5</th>\n",
              "      <td>W</td>\n",
              "      <td>18.193405</td>\n",
              "    </tr>\n",
              "    <tr>\n",
              "      <th>0</th>\n",
              "      <td>A</td>\n",
              "      <td>17.948529</td>\n",
              "    </tr>\n",
              "    <tr>\n",
              "      <th>2</th>\n",
              "      <td>H</td>\n",
              "      <td>17.314316</td>\n",
              "    </tr>\n",
              "  </tbody>\n",
              "</table>\n",
              "</div>\n",
              "      <button class=\"colab-df-convert\" onclick=\"convertToInteractive('df-2c8c355c-fa30-488b-9e9b-065bc1a74f42')\"\n",
              "              title=\"Convert this dataframe to an interactive table.\"\n",
              "              style=\"display:none;\">\n",
              "        \n",
              "  <svg xmlns=\"http://www.w3.org/2000/svg\" height=\"24px\"viewBox=\"0 0 24 24\"\n",
              "       width=\"24px\">\n",
              "    <path d=\"M0 0h24v24H0V0z\" fill=\"none\"/>\n",
              "    <path d=\"M18.56 5.44l.94 2.06.94-2.06 2.06-.94-2.06-.94-.94-2.06-.94 2.06-2.06.94zm-11 1L8.5 8.5l.94-2.06 2.06-.94-2.06-.94L8.5 2.5l-.94 2.06-2.06.94zm10 10l.94 2.06.94-2.06 2.06-.94-2.06-.94-.94-2.06-.94 2.06-2.06.94z\"/><path d=\"M17.41 7.96l-1.37-1.37c-.4-.4-.92-.59-1.43-.59-.52 0-1.04.2-1.43.59L10.3 9.45l-7.72 7.72c-.78.78-.78 2.05 0 2.83L4 21.41c.39.39.9.59 1.41.59.51 0 1.02-.2 1.41-.59l7.78-7.78 2.81-2.81c.8-.78.8-2.07 0-2.86zM5.41 20L4 18.59l7.72-7.72 1.47 1.35L5.41 20z\"/>\n",
              "  </svg>\n",
              "      </button>\n",
              "      \n",
              "  <style>\n",
              "    .colab-df-container {\n",
              "      display:flex;\n",
              "      flex-wrap:wrap;\n",
              "      gap: 12px;\n",
              "    }\n",
              "\n",
              "    .colab-df-convert {\n",
              "      background-color: #E8F0FE;\n",
              "      border: none;\n",
              "      border-radius: 50%;\n",
              "      cursor: pointer;\n",
              "      display: none;\n",
              "      fill: #1967D2;\n",
              "      height: 32px;\n",
              "      padding: 0 0 0 0;\n",
              "      width: 32px;\n",
              "    }\n",
              "\n",
              "    .colab-df-convert:hover {\n",
              "      background-color: #E2EBFA;\n",
              "      box-shadow: 0px 1px 2px rgba(60, 64, 67, 0.3), 0px 1px 3px 1px rgba(60, 64, 67, 0.15);\n",
              "      fill: #174EA6;\n",
              "    }\n",
              "\n",
              "    [theme=dark] .colab-df-convert {\n",
              "      background-color: #3B4455;\n",
              "      fill: #D2E3FC;\n",
              "    }\n",
              "\n",
              "    [theme=dark] .colab-df-convert:hover {\n",
              "      background-color: #434B5C;\n",
              "      box-shadow: 0px 1px 3px 1px rgba(0, 0, 0, 0.15);\n",
              "      filter: drop-shadow(0px 1px 2px rgba(0, 0, 0, 0.3));\n",
              "      fill: #FFFFFF;\n",
              "    }\n",
              "  </style>\n",
              "\n",
              "      <script>\n",
              "        const buttonEl =\n",
              "          document.querySelector('#df-2c8c355c-fa30-488b-9e9b-065bc1a74f42 button.colab-df-convert');\n",
              "        buttonEl.style.display =\n",
              "          google.colab.kernel.accessAllowed ? 'block' : 'none';\n",
              "\n",
              "        async function convertToInteractive(key) {\n",
              "          const element = document.querySelector('#df-2c8c355c-fa30-488b-9e9b-065bc1a74f42');\n",
              "          const dataTable =\n",
              "            await google.colab.kernel.invokeFunction('convertToInteractive',\n",
              "                                                     [key], {});\n",
              "          if (!dataTable) return;\n",
              "\n",
              "          const docLinkHtml = 'Like what you see? Visit the ' +\n",
              "            '<a target=\"_blank\" href=https://colab.research.google.com/notebooks/data_table.ipynb>data table notebook</a>'\n",
              "            + ' to learn more about interactive tables.';\n",
              "          element.innerHTML = '';\n",
              "          dataTable['output_type'] = 'display_data';\n",
              "          await google.colab.output.renderOutput(dataTable, element);\n",
              "          const docLink = document.createElement('div');\n",
              "          docLink.innerHTML = docLinkHtml;\n",
              "          element.appendChild(docLink);\n",
              "        }\n",
              "      </script>\n",
              "    </div>\n",
              "  </div>\n",
              "  "
            ]
          },
          "metadata": {},
          "execution_count": 22
        }
      ]
    },
    {
      "cell_type": "code",
      "source": [
        "prisoners['Race'].value_counts()"
      ],
      "metadata": {
        "colab": {
          "base_uri": "https://localhost:8080/"
        },
        "id": "Vh0PewZGre5C",
        "outputId": "417f9515-86f8-4c31-9eba-f214977088ef"
      },
      "execution_count": null,
      "outputs": [
        {
          "output_type": "execute_result",
          "data": {
            "text/plain": [
              "H    35807\n",
              "W    35510\n",
              "B    34466\n",
              "A      408\n",
              "O      109\n",
              "I       44\n",
              "Name: Race, dtype: int64"
            ]
          },
          "metadata": {},
          "execution_count": 23
        }
      ]
    },
    {
      "cell_type": "markdown",
      "source": [
        "Sentences are being served in 101 different prisons."
      ],
      "metadata": {
        "id": "6-bHYRTHaCm6"
      }
    },
    {
      "cell_type": "markdown",
      "source": [
        "## Feature Engineering"
      ],
      "metadata": {
        "id": "8Q7cC9dPb6dz"
      }
    },
    {
      "cell_type": "code",
      "source": [
        "# get the list of counties\n",
        "counties = np.unique(prisoners['County'])"
      ],
      "metadata": {
        "id": "EvHl8TleFX1M"
      },
      "execution_count": null,
      "outputs": []
    },
    {
      "cell_type": "markdown",
      "source": [
        "We will map the county variable to a numeric value using scikit learn label encoder."
      ],
      "metadata": {
        "id": "aIkknFlSaBlR"
      }
    },
    {
      "cell_type": "code",
      "source": [
        "from sklearn.preprocessing import LabelEncoder\n",
        "\n",
        "gle = LabelEncoder()\n",
        "county_labels = gle.fit_transform(prisoners['County'])\n",
        "county_mappings = {index: label for index, label in enumerate(gle.classes_)}"
      ],
      "metadata": {
        "id": "jHe6cv8daVhr"
      },
      "execution_count": null,
      "outputs": []
    },
    {
      "cell_type": "code",
      "source": [
        "prisoners['County Labels'] = county_labels"
      ],
      "metadata": {
        "id": "NRR4kMFgbJbm"
      },
      "execution_count": null,
      "outputs": []
    },
    {
      "cell_type": "markdown",
      "source": [
        "We can do the same for Current Facility"
      ],
      "metadata": {
        "id": "OVjemkZ9bfbo"
      }
    },
    {
      "cell_type": "code",
      "source": [
        "# get list of Current Facility\n",
        "facility = np.unique(prisoners['Current Facility'])"
      ],
      "metadata": {
        "id": "KT5TV9R1boH0"
      },
      "execution_count": null,
      "outputs": []
    },
    {
      "cell_type": "code",
      "source": [
        "facility_labels = gle.fit_transform(prisoners['Current Facility'])\n",
        "facility_mappings = {index: label for index, label in enumerate(gle.classes_)}"
      ],
      "metadata": {
        "id": "YoT3MPRgbwtO"
      },
      "execution_count": null,
      "outputs": []
    },
    {
      "cell_type": "code",
      "source": [
        "prisoners['Facility Labels'] = facility_labels"
      ],
      "metadata": {
        "id": "Q2hFeK3qb9S5"
      },
      "execution_count": null,
      "outputs": []
    },
    {
      "cell_type": "code",
      "source": [
        "prisoners.head()"
      ],
      "metadata": {
        "colab": {
          "base_uri": "https://localhost:8080/",
          "height": 302
        },
        "id": "4l8ntvuycEEN",
        "outputId": "10b5666b-229a-432d-b9c4-467cf118f8a3"
      },
      "execution_count": null,
      "outputs": [
        {
          "output_type": "execute_result",
          "data": {
            "text/plain": [
              "     Current Facility Gender Race  Age      County  Offense Code  \\\n",
              "1  Hospital Galveston      M    W   84    McLennan      11990003   \n",
              "3            W. Scott      M    B   79      Harris      12990002   \n",
              "4        C.T. Terrell      M    B   84      Shelby      11990003   \n",
              "6                Pack      M    H   83   Tom Green      36120005   \n",
              "7                Beto      M    W   83  Montgomery      54040011   \n",
              "\n",
              "               TDCJ Offense Sentence Date Offense Date  Sentence (Years)  \\\n",
              "1              AGG SEX ASLT    1998-08-05   1996-06-01              45.0   \n",
              "3          AGG ROBBERY W/DW    2008-02-21   2007-12-03              30.0   \n",
              "4           AGG SEXUAL ALST    2004-05-13   1999-07-24              20.0   \n",
              "6  FAIL REG AS SEX OFFENDER    2003-08-15   2003-04-08              20.0   \n",
              "7                 DWI 3RD/M    2011-07-20   2009-09-01              55.0   \n",
              "\n",
              "   County Labels  Facility Labels  \n",
              "1            158               47  \n",
              "3            100               92  \n",
              "4            207               10  \n",
              "6            223               72  \n",
              "7            167                3  "
            ],
            "text/html": [
              "\n",
              "  <div id=\"df-7e12badc-49fd-499e-a667-70bb7005b29a\">\n",
              "    <div class=\"colab-df-container\">\n",
              "      <div>\n",
              "<style scoped>\n",
              "    .dataframe tbody tr th:only-of-type {\n",
              "        vertical-align: middle;\n",
              "    }\n",
              "\n",
              "    .dataframe tbody tr th {\n",
              "        vertical-align: top;\n",
              "    }\n",
              "\n",
              "    .dataframe thead th {\n",
              "        text-align: right;\n",
              "    }\n",
              "</style>\n",
              "<table border=\"1\" class=\"dataframe\">\n",
              "  <thead>\n",
              "    <tr style=\"text-align: right;\">\n",
              "      <th></th>\n",
              "      <th>Current Facility</th>\n",
              "      <th>Gender</th>\n",
              "      <th>Race</th>\n",
              "      <th>Age</th>\n",
              "      <th>County</th>\n",
              "      <th>Offense Code</th>\n",
              "      <th>TDCJ Offense</th>\n",
              "      <th>Sentence Date</th>\n",
              "      <th>Offense Date</th>\n",
              "      <th>Sentence (Years)</th>\n",
              "      <th>County Labels</th>\n",
              "      <th>Facility Labels</th>\n",
              "    </tr>\n",
              "  </thead>\n",
              "  <tbody>\n",
              "    <tr>\n",
              "      <th>1</th>\n",
              "      <td>Hospital Galveston</td>\n",
              "      <td>M</td>\n",
              "      <td>W</td>\n",
              "      <td>84</td>\n",
              "      <td>McLennan</td>\n",
              "      <td>11990003</td>\n",
              "      <td>AGG SEX ASLT</td>\n",
              "      <td>1998-08-05</td>\n",
              "      <td>1996-06-01</td>\n",
              "      <td>45.0</td>\n",
              "      <td>158</td>\n",
              "      <td>47</td>\n",
              "    </tr>\n",
              "    <tr>\n",
              "      <th>3</th>\n",
              "      <td>W. Scott</td>\n",
              "      <td>M</td>\n",
              "      <td>B</td>\n",
              "      <td>79</td>\n",
              "      <td>Harris</td>\n",
              "      <td>12990002</td>\n",
              "      <td>AGG ROBBERY W/DW</td>\n",
              "      <td>2008-02-21</td>\n",
              "      <td>2007-12-03</td>\n",
              "      <td>30.0</td>\n",
              "      <td>100</td>\n",
              "      <td>92</td>\n",
              "    </tr>\n",
              "    <tr>\n",
              "      <th>4</th>\n",
              "      <td>C.T. Terrell</td>\n",
              "      <td>M</td>\n",
              "      <td>B</td>\n",
              "      <td>84</td>\n",
              "      <td>Shelby</td>\n",
              "      <td>11990003</td>\n",
              "      <td>AGG SEXUAL ALST</td>\n",
              "      <td>2004-05-13</td>\n",
              "      <td>1999-07-24</td>\n",
              "      <td>20.0</td>\n",
              "      <td>207</td>\n",
              "      <td>10</td>\n",
              "    </tr>\n",
              "    <tr>\n",
              "      <th>6</th>\n",
              "      <td>Pack</td>\n",
              "      <td>M</td>\n",
              "      <td>H</td>\n",
              "      <td>83</td>\n",
              "      <td>Tom Green</td>\n",
              "      <td>36120005</td>\n",
              "      <td>FAIL REG AS SEX OFFENDER</td>\n",
              "      <td>2003-08-15</td>\n",
              "      <td>2003-04-08</td>\n",
              "      <td>20.0</td>\n",
              "      <td>223</td>\n",
              "      <td>72</td>\n",
              "    </tr>\n",
              "    <tr>\n",
              "      <th>7</th>\n",
              "      <td>Beto</td>\n",
              "      <td>M</td>\n",
              "      <td>W</td>\n",
              "      <td>83</td>\n",
              "      <td>Montgomery</td>\n",
              "      <td>54040011</td>\n",
              "      <td>DWI 3RD/M</td>\n",
              "      <td>2011-07-20</td>\n",
              "      <td>2009-09-01</td>\n",
              "      <td>55.0</td>\n",
              "      <td>167</td>\n",
              "      <td>3</td>\n",
              "    </tr>\n",
              "  </tbody>\n",
              "</table>\n",
              "</div>\n",
              "      <button class=\"colab-df-convert\" onclick=\"convertToInteractive('df-7e12badc-49fd-499e-a667-70bb7005b29a')\"\n",
              "              title=\"Convert this dataframe to an interactive table.\"\n",
              "              style=\"display:none;\">\n",
              "        \n",
              "  <svg xmlns=\"http://www.w3.org/2000/svg\" height=\"24px\"viewBox=\"0 0 24 24\"\n",
              "       width=\"24px\">\n",
              "    <path d=\"M0 0h24v24H0V0z\" fill=\"none\"/>\n",
              "    <path d=\"M18.56 5.44l.94 2.06.94-2.06 2.06-.94-2.06-.94-.94-2.06-.94 2.06-2.06.94zm-11 1L8.5 8.5l.94-2.06 2.06-.94-2.06-.94L8.5 2.5l-.94 2.06-2.06.94zm10 10l.94 2.06.94-2.06 2.06-.94-2.06-.94-.94-2.06-.94 2.06-2.06.94z\"/><path d=\"M17.41 7.96l-1.37-1.37c-.4-.4-.92-.59-1.43-.59-.52 0-1.04.2-1.43.59L10.3 9.45l-7.72 7.72c-.78.78-.78 2.05 0 2.83L4 21.41c.39.39.9.59 1.41.59.51 0 1.02-.2 1.41-.59l7.78-7.78 2.81-2.81c.8-.78.8-2.07 0-2.86zM5.41 20L4 18.59l7.72-7.72 1.47 1.35L5.41 20z\"/>\n",
              "  </svg>\n",
              "      </button>\n",
              "      \n",
              "  <style>\n",
              "    .colab-df-container {\n",
              "      display:flex;\n",
              "      flex-wrap:wrap;\n",
              "      gap: 12px;\n",
              "    }\n",
              "\n",
              "    .colab-df-convert {\n",
              "      background-color: #E8F0FE;\n",
              "      border: none;\n",
              "      border-radius: 50%;\n",
              "      cursor: pointer;\n",
              "      display: none;\n",
              "      fill: #1967D2;\n",
              "      height: 32px;\n",
              "      padding: 0 0 0 0;\n",
              "      width: 32px;\n",
              "    }\n",
              "\n",
              "    .colab-df-convert:hover {\n",
              "      background-color: #E2EBFA;\n",
              "      box-shadow: 0px 1px 2px rgba(60, 64, 67, 0.3), 0px 1px 3px 1px rgba(60, 64, 67, 0.15);\n",
              "      fill: #174EA6;\n",
              "    }\n",
              "\n",
              "    [theme=dark] .colab-df-convert {\n",
              "      background-color: #3B4455;\n",
              "      fill: #D2E3FC;\n",
              "    }\n",
              "\n",
              "    [theme=dark] .colab-df-convert:hover {\n",
              "      background-color: #434B5C;\n",
              "      box-shadow: 0px 1px 3px 1px rgba(0, 0, 0, 0.15);\n",
              "      filter: drop-shadow(0px 1px 2px rgba(0, 0, 0, 0.3));\n",
              "      fill: #FFFFFF;\n",
              "    }\n",
              "  </style>\n",
              "\n",
              "      <script>\n",
              "        const buttonEl =\n",
              "          document.querySelector('#df-7e12badc-49fd-499e-a667-70bb7005b29a button.colab-df-convert');\n",
              "        buttonEl.style.display =\n",
              "          google.colab.kernel.accessAllowed ? 'block' : 'none';\n",
              "\n",
              "        async function convertToInteractive(key) {\n",
              "          const element = document.querySelector('#df-7e12badc-49fd-499e-a667-70bb7005b29a');\n",
              "          const dataTable =\n",
              "            await google.colab.kernel.invokeFunction('convertToInteractive',\n",
              "                                                     [key], {});\n",
              "          if (!dataTable) return;\n",
              "\n",
              "          const docLinkHtml = 'Like what you see? Visit the ' +\n",
              "            '<a target=\"_blank\" href=https://colab.research.google.com/notebooks/data_table.ipynb>data table notebook</a>'\n",
              "            + ' to learn more about interactive tables.';\n",
              "          element.innerHTML = '';\n",
              "          dataTable['output_type'] = 'display_data';\n",
              "          await google.colab.output.renderOutput(dataTable, element);\n",
              "          const docLink = document.createElement('div');\n",
              "          docLink.innerHTML = docLinkHtml;\n",
              "          element.appendChild(docLink);\n",
              "        }\n",
              "      </script>\n",
              "    </div>\n",
              "  </div>\n",
              "  "
            ]
          },
          "metadata": {},
          "execution_count": 30
        }
      ]
    },
    {
      "cell_type": "markdown",
      "source": [
        "Both of these columns mapping the nominal data to numerical data have been added to the dataframe."
      ],
      "metadata": {
        "id": "b2YoKmiScGAQ"
      }
    },
    {
      "cell_type": "code",
      "source": [
        "from sklearn.preprocessing import OneHotEncoder\n",
        "ohe = OneHotEncoder(handle_unknown='ignore')"
      ],
      "metadata": {
        "id": "aUmCVdCGA415"
      },
      "execution_count": null,
      "outputs": []
    },
    {
      "cell_type": "code",
      "source": [
        "gender = pd.get_dummies(prisoners.Gender)"
      ],
      "metadata": {
        "id": "IsKfSnX082aU"
      },
      "execution_count": null,
      "outputs": []
    },
    {
      "cell_type": "code",
      "source": [
        "prisoners = prisoners.merge(gender,left_index=True,right_index=True)\n",
        "prisoners.head()"
      ],
      "metadata": {
        "colab": {
          "base_uri": "https://localhost:8080/",
          "height": 319
        },
        "id": "Z7JWJYF5gLJe",
        "outputId": "80abbe73-4e44-43a2-ba5f-21d39943a0b6"
      },
      "execution_count": null,
      "outputs": [
        {
          "output_type": "execute_result",
          "data": {
            "text/plain": [
              "     Current Facility Gender Race  Age      County  Offense Code  \\\n",
              "1  Hospital Galveston      M    W   84    McLennan      11990003   \n",
              "3            W. Scott      M    B   79      Harris      12990002   \n",
              "4        C.T. Terrell      M    B   84      Shelby      11990003   \n",
              "6                Pack      M    H   83   Tom Green      36120005   \n",
              "7                Beto      M    W   83  Montgomery      54040011   \n",
              "\n",
              "               TDCJ Offense Sentence Date Offense Date  Sentence (Years)  \\\n",
              "1              AGG SEX ASLT    1998-08-05   1996-06-01              45.0   \n",
              "3          AGG ROBBERY W/DW    2008-02-21   2007-12-03              30.0   \n",
              "4           AGG SEXUAL ALST    2004-05-13   1999-07-24              20.0   \n",
              "6  FAIL REG AS SEX OFFENDER    2003-08-15   2003-04-08              20.0   \n",
              "7                 DWI 3RD/M    2011-07-20   2009-09-01              55.0   \n",
              "\n",
              "   County Labels  Facility Labels  F  M  \n",
              "1            158               47  0  1  \n",
              "3            100               92  0  1  \n",
              "4            207               10  0  1  \n",
              "6            223               72  0  1  \n",
              "7            167                3  0  1  "
            ],
            "text/html": [
              "\n",
              "  <div id=\"df-7d602a6d-100a-4a3b-bdb4-9f49835740e4\">\n",
              "    <div class=\"colab-df-container\">\n",
              "      <div>\n",
              "<style scoped>\n",
              "    .dataframe tbody tr th:only-of-type {\n",
              "        vertical-align: middle;\n",
              "    }\n",
              "\n",
              "    .dataframe tbody tr th {\n",
              "        vertical-align: top;\n",
              "    }\n",
              "\n",
              "    .dataframe thead th {\n",
              "        text-align: right;\n",
              "    }\n",
              "</style>\n",
              "<table border=\"1\" class=\"dataframe\">\n",
              "  <thead>\n",
              "    <tr style=\"text-align: right;\">\n",
              "      <th></th>\n",
              "      <th>Current Facility</th>\n",
              "      <th>Gender</th>\n",
              "      <th>Race</th>\n",
              "      <th>Age</th>\n",
              "      <th>County</th>\n",
              "      <th>Offense Code</th>\n",
              "      <th>TDCJ Offense</th>\n",
              "      <th>Sentence Date</th>\n",
              "      <th>Offense Date</th>\n",
              "      <th>Sentence (Years)</th>\n",
              "      <th>County Labels</th>\n",
              "      <th>Facility Labels</th>\n",
              "      <th>F</th>\n",
              "      <th>M</th>\n",
              "    </tr>\n",
              "  </thead>\n",
              "  <tbody>\n",
              "    <tr>\n",
              "      <th>1</th>\n",
              "      <td>Hospital Galveston</td>\n",
              "      <td>M</td>\n",
              "      <td>W</td>\n",
              "      <td>84</td>\n",
              "      <td>McLennan</td>\n",
              "      <td>11990003</td>\n",
              "      <td>AGG SEX ASLT</td>\n",
              "      <td>1998-08-05</td>\n",
              "      <td>1996-06-01</td>\n",
              "      <td>45.0</td>\n",
              "      <td>158</td>\n",
              "      <td>47</td>\n",
              "      <td>0</td>\n",
              "      <td>1</td>\n",
              "    </tr>\n",
              "    <tr>\n",
              "      <th>3</th>\n",
              "      <td>W. Scott</td>\n",
              "      <td>M</td>\n",
              "      <td>B</td>\n",
              "      <td>79</td>\n",
              "      <td>Harris</td>\n",
              "      <td>12990002</td>\n",
              "      <td>AGG ROBBERY W/DW</td>\n",
              "      <td>2008-02-21</td>\n",
              "      <td>2007-12-03</td>\n",
              "      <td>30.0</td>\n",
              "      <td>100</td>\n",
              "      <td>92</td>\n",
              "      <td>0</td>\n",
              "      <td>1</td>\n",
              "    </tr>\n",
              "    <tr>\n",
              "      <th>4</th>\n",
              "      <td>C.T. Terrell</td>\n",
              "      <td>M</td>\n",
              "      <td>B</td>\n",
              "      <td>84</td>\n",
              "      <td>Shelby</td>\n",
              "      <td>11990003</td>\n",
              "      <td>AGG SEXUAL ALST</td>\n",
              "      <td>2004-05-13</td>\n",
              "      <td>1999-07-24</td>\n",
              "      <td>20.0</td>\n",
              "      <td>207</td>\n",
              "      <td>10</td>\n",
              "      <td>0</td>\n",
              "      <td>1</td>\n",
              "    </tr>\n",
              "    <tr>\n",
              "      <th>6</th>\n",
              "      <td>Pack</td>\n",
              "      <td>M</td>\n",
              "      <td>H</td>\n",
              "      <td>83</td>\n",
              "      <td>Tom Green</td>\n",
              "      <td>36120005</td>\n",
              "      <td>FAIL REG AS SEX OFFENDER</td>\n",
              "      <td>2003-08-15</td>\n",
              "      <td>2003-04-08</td>\n",
              "      <td>20.0</td>\n",
              "      <td>223</td>\n",
              "      <td>72</td>\n",
              "      <td>0</td>\n",
              "      <td>1</td>\n",
              "    </tr>\n",
              "    <tr>\n",
              "      <th>7</th>\n",
              "      <td>Beto</td>\n",
              "      <td>M</td>\n",
              "      <td>W</td>\n",
              "      <td>83</td>\n",
              "      <td>Montgomery</td>\n",
              "      <td>54040011</td>\n",
              "      <td>DWI 3RD/M</td>\n",
              "      <td>2011-07-20</td>\n",
              "      <td>2009-09-01</td>\n",
              "      <td>55.0</td>\n",
              "      <td>167</td>\n",
              "      <td>3</td>\n",
              "      <td>0</td>\n",
              "      <td>1</td>\n",
              "    </tr>\n",
              "  </tbody>\n",
              "</table>\n",
              "</div>\n",
              "      <button class=\"colab-df-convert\" onclick=\"convertToInteractive('df-7d602a6d-100a-4a3b-bdb4-9f49835740e4')\"\n",
              "              title=\"Convert this dataframe to an interactive table.\"\n",
              "              style=\"display:none;\">\n",
              "        \n",
              "  <svg xmlns=\"http://www.w3.org/2000/svg\" height=\"24px\"viewBox=\"0 0 24 24\"\n",
              "       width=\"24px\">\n",
              "    <path d=\"M0 0h24v24H0V0z\" fill=\"none\"/>\n",
              "    <path d=\"M18.56 5.44l.94 2.06.94-2.06 2.06-.94-2.06-.94-.94-2.06-.94 2.06-2.06.94zm-11 1L8.5 8.5l.94-2.06 2.06-.94-2.06-.94L8.5 2.5l-.94 2.06-2.06.94zm10 10l.94 2.06.94-2.06 2.06-.94-2.06-.94-.94-2.06-.94 2.06-2.06.94z\"/><path d=\"M17.41 7.96l-1.37-1.37c-.4-.4-.92-.59-1.43-.59-.52 0-1.04.2-1.43.59L10.3 9.45l-7.72 7.72c-.78.78-.78 2.05 0 2.83L4 21.41c.39.39.9.59 1.41.59.51 0 1.02-.2 1.41-.59l7.78-7.78 2.81-2.81c.8-.78.8-2.07 0-2.86zM5.41 20L4 18.59l7.72-7.72 1.47 1.35L5.41 20z\"/>\n",
              "  </svg>\n",
              "      </button>\n",
              "      \n",
              "  <style>\n",
              "    .colab-df-container {\n",
              "      display:flex;\n",
              "      flex-wrap:wrap;\n",
              "      gap: 12px;\n",
              "    }\n",
              "\n",
              "    .colab-df-convert {\n",
              "      background-color: #E8F0FE;\n",
              "      border: none;\n",
              "      border-radius: 50%;\n",
              "      cursor: pointer;\n",
              "      display: none;\n",
              "      fill: #1967D2;\n",
              "      height: 32px;\n",
              "      padding: 0 0 0 0;\n",
              "      width: 32px;\n",
              "    }\n",
              "\n",
              "    .colab-df-convert:hover {\n",
              "      background-color: #E2EBFA;\n",
              "      box-shadow: 0px 1px 2px rgba(60, 64, 67, 0.3), 0px 1px 3px 1px rgba(60, 64, 67, 0.15);\n",
              "      fill: #174EA6;\n",
              "    }\n",
              "\n",
              "    [theme=dark] .colab-df-convert {\n",
              "      background-color: #3B4455;\n",
              "      fill: #D2E3FC;\n",
              "    }\n",
              "\n",
              "    [theme=dark] .colab-df-convert:hover {\n",
              "      background-color: #434B5C;\n",
              "      box-shadow: 0px 1px 3px 1px rgba(0, 0, 0, 0.15);\n",
              "      filter: drop-shadow(0px 1px 2px rgba(0, 0, 0, 0.3));\n",
              "      fill: #FFFFFF;\n",
              "    }\n",
              "  </style>\n",
              "\n",
              "      <script>\n",
              "        const buttonEl =\n",
              "          document.querySelector('#df-7d602a6d-100a-4a3b-bdb4-9f49835740e4 button.colab-df-convert');\n",
              "        buttonEl.style.display =\n",
              "          google.colab.kernel.accessAllowed ? 'block' : 'none';\n",
              "\n",
              "        async function convertToInteractive(key) {\n",
              "          const element = document.querySelector('#df-7d602a6d-100a-4a3b-bdb4-9f49835740e4');\n",
              "          const dataTable =\n",
              "            await google.colab.kernel.invokeFunction('convertToInteractive',\n",
              "                                                     [key], {});\n",
              "          if (!dataTable) return;\n",
              "\n",
              "          const docLinkHtml = 'Like what you see? Visit the ' +\n",
              "            '<a target=\"_blank\" href=https://colab.research.google.com/notebooks/data_table.ipynb>data table notebook</a>'\n",
              "            + ' to learn more about interactive tables.';\n",
              "          element.innerHTML = '';\n",
              "          dataTable['output_type'] = 'display_data';\n",
              "          await google.colab.output.renderOutput(dataTable, element);\n",
              "          const docLink = document.createElement('div');\n",
              "          docLink.innerHTML = docLinkHtml;\n",
              "          element.appendChild(docLink);\n",
              "        }\n",
              "      </script>\n",
              "    </div>\n",
              "  </div>\n",
              "  "
            ]
          },
          "metadata": {},
          "execution_count": 33
        }
      ]
    },
    {
      "cell_type": "code",
      "source": [
        "race = pd.get_dummies(prisoners.Race)"
      ],
      "metadata": {
        "id": "5N7Er1zHHAep"
      },
      "execution_count": null,
      "outputs": []
    },
    {
      "cell_type": "code",
      "source": [
        "prisoners = prisoners.merge(race,left_index=True,right_index=True)\n",
        "prisoners.head()"
      ],
      "metadata": {
        "colab": {
          "base_uri": "https://localhost:8080/",
          "height": 354
        },
        "id": "mMSuHdiwH8gD",
        "outputId": "d394529b-6022-49c9-c2aa-5b86c006e269"
      },
      "execution_count": null,
      "outputs": [
        {
          "output_type": "execute_result",
          "data": {
            "text/plain": [
              "     Current Facility Gender Race  Age      County  Offense Code  \\\n",
              "1  Hospital Galveston      M    W   84    McLennan      11990003   \n",
              "3            W. Scott      M    B   79      Harris      12990002   \n",
              "4        C.T. Terrell      M    B   84      Shelby      11990003   \n",
              "6                Pack      M    H   83   Tom Green      36120005   \n",
              "7                Beto      M    W   83  Montgomery      54040011   \n",
              "\n",
              "               TDCJ Offense Sentence Date Offense Date  Sentence (Years)  \\\n",
              "1              AGG SEX ASLT    1998-08-05   1996-06-01              45.0   \n",
              "3          AGG ROBBERY W/DW    2008-02-21   2007-12-03              30.0   \n",
              "4           AGG SEXUAL ALST    2004-05-13   1999-07-24              20.0   \n",
              "6  FAIL REG AS SEX OFFENDER    2003-08-15   2003-04-08              20.0   \n",
              "7                 DWI 3RD/M    2011-07-20   2009-09-01              55.0   \n",
              "\n",
              "   County Labels  Facility Labels  F  M  A  B  H  I  O  W  \n",
              "1            158               47  0  1  0  0  0  0  0  1  \n",
              "3            100               92  0  1  0  1  0  0  0  0  \n",
              "4            207               10  0  1  0  1  0  0  0  0  \n",
              "6            223               72  0  1  0  0  1  0  0  0  \n",
              "7            167                3  0  1  0  0  0  0  0  1  "
            ],
            "text/html": [
              "\n",
              "  <div id=\"df-c182d0cd-f689-4d60-b19e-2dd87e37825b\">\n",
              "    <div class=\"colab-df-container\">\n",
              "      <div>\n",
              "<style scoped>\n",
              "    .dataframe tbody tr th:only-of-type {\n",
              "        vertical-align: middle;\n",
              "    }\n",
              "\n",
              "    .dataframe tbody tr th {\n",
              "        vertical-align: top;\n",
              "    }\n",
              "\n",
              "    .dataframe thead th {\n",
              "        text-align: right;\n",
              "    }\n",
              "</style>\n",
              "<table border=\"1\" class=\"dataframe\">\n",
              "  <thead>\n",
              "    <tr style=\"text-align: right;\">\n",
              "      <th></th>\n",
              "      <th>Current Facility</th>\n",
              "      <th>Gender</th>\n",
              "      <th>Race</th>\n",
              "      <th>Age</th>\n",
              "      <th>County</th>\n",
              "      <th>Offense Code</th>\n",
              "      <th>TDCJ Offense</th>\n",
              "      <th>Sentence Date</th>\n",
              "      <th>Offense Date</th>\n",
              "      <th>Sentence (Years)</th>\n",
              "      <th>County Labels</th>\n",
              "      <th>Facility Labels</th>\n",
              "      <th>F</th>\n",
              "      <th>M</th>\n",
              "      <th>A</th>\n",
              "      <th>B</th>\n",
              "      <th>H</th>\n",
              "      <th>I</th>\n",
              "      <th>O</th>\n",
              "      <th>W</th>\n",
              "    </tr>\n",
              "  </thead>\n",
              "  <tbody>\n",
              "    <tr>\n",
              "      <th>1</th>\n",
              "      <td>Hospital Galveston</td>\n",
              "      <td>M</td>\n",
              "      <td>W</td>\n",
              "      <td>84</td>\n",
              "      <td>McLennan</td>\n",
              "      <td>11990003</td>\n",
              "      <td>AGG SEX ASLT</td>\n",
              "      <td>1998-08-05</td>\n",
              "      <td>1996-06-01</td>\n",
              "      <td>45.0</td>\n",
              "      <td>158</td>\n",
              "      <td>47</td>\n",
              "      <td>0</td>\n",
              "      <td>1</td>\n",
              "      <td>0</td>\n",
              "      <td>0</td>\n",
              "      <td>0</td>\n",
              "      <td>0</td>\n",
              "      <td>0</td>\n",
              "      <td>1</td>\n",
              "    </tr>\n",
              "    <tr>\n",
              "      <th>3</th>\n",
              "      <td>W. Scott</td>\n",
              "      <td>M</td>\n",
              "      <td>B</td>\n",
              "      <td>79</td>\n",
              "      <td>Harris</td>\n",
              "      <td>12990002</td>\n",
              "      <td>AGG ROBBERY W/DW</td>\n",
              "      <td>2008-02-21</td>\n",
              "      <td>2007-12-03</td>\n",
              "      <td>30.0</td>\n",
              "      <td>100</td>\n",
              "      <td>92</td>\n",
              "      <td>0</td>\n",
              "      <td>1</td>\n",
              "      <td>0</td>\n",
              "      <td>1</td>\n",
              "      <td>0</td>\n",
              "      <td>0</td>\n",
              "      <td>0</td>\n",
              "      <td>0</td>\n",
              "    </tr>\n",
              "    <tr>\n",
              "      <th>4</th>\n",
              "      <td>C.T. Terrell</td>\n",
              "      <td>M</td>\n",
              "      <td>B</td>\n",
              "      <td>84</td>\n",
              "      <td>Shelby</td>\n",
              "      <td>11990003</td>\n",
              "      <td>AGG SEXUAL ALST</td>\n",
              "      <td>2004-05-13</td>\n",
              "      <td>1999-07-24</td>\n",
              "      <td>20.0</td>\n",
              "      <td>207</td>\n",
              "      <td>10</td>\n",
              "      <td>0</td>\n",
              "      <td>1</td>\n",
              "      <td>0</td>\n",
              "      <td>1</td>\n",
              "      <td>0</td>\n",
              "      <td>0</td>\n",
              "      <td>0</td>\n",
              "      <td>0</td>\n",
              "    </tr>\n",
              "    <tr>\n",
              "      <th>6</th>\n",
              "      <td>Pack</td>\n",
              "      <td>M</td>\n",
              "      <td>H</td>\n",
              "      <td>83</td>\n",
              "      <td>Tom Green</td>\n",
              "      <td>36120005</td>\n",
              "      <td>FAIL REG AS SEX OFFENDER</td>\n",
              "      <td>2003-08-15</td>\n",
              "      <td>2003-04-08</td>\n",
              "      <td>20.0</td>\n",
              "      <td>223</td>\n",
              "      <td>72</td>\n",
              "      <td>0</td>\n",
              "      <td>1</td>\n",
              "      <td>0</td>\n",
              "      <td>0</td>\n",
              "      <td>1</td>\n",
              "      <td>0</td>\n",
              "      <td>0</td>\n",
              "      <td>0</td>\n",
              "    </tr>\n",
              "    <tr>\n",
              "      <th>7</th>\n",
              "      <td>Beto</td>\n",
              "      <td>M</td>\n",
              "      <td>W</td>\n",
              "      <td>83</td>\n",
              "      <td>Montgomery</td>\n",
              "      <td>54040011</td>\n",
              "      <td>DWI 3RD/M</td>\n",
              "      <td>2011-07-20</td>\n",
              "      <td>2009-09-01</td>\n",
              "      <td>55.0</td>\n",
              "      <td>167</td>\n",
              "      <td>3</td>\n",
              "      <td>0</td>\n",
              "      <td>1</td>\n",
              "      <td>0</td>\n",
              "      <td>0</td>\n",
              "      <td>0</td>\n",
              "      <td>0</td>\n",
              "      <td>0</td>\n",
              "      <td>1</td>\n",
              "    </tr>\n",
              "  </tbody>\n",
              "</table>\n",
              "</div>\n",
              "      <button class=\"colab-df-convert\" onclick=\"convertToInteractive('df-c182d0cd-f689-4d60-b19e-2dd87e37825b')\"\n",
              "              title=\"Convert this dataframe to an interactive table.\"\n",
              "              style=\"display:none;\">\n",
              "        \n",
              "  <svg xmlns=\"http://www.w3.org/2000/svg\" height=\"24px\"viewBox=\"0 0 24 24\"\n",
              "       width=\"24px\">\n",
              "    <path d=\"M0 0h24v24H0V0z\" fill=\"none\"/>\n",
              "    <path d=\"M18.56 5.44l.94 2.06.94-2.06 2.06-.94-2.06-.94-.94-2.06-.94 2.06-2.06.94zm-11 1L8.5 8.5l.94-2.06 2.06-.94-2.06-.94L8.5 2.5l-.94 2.06-2.06.94zm10 10l.94 2.06.94-2.06 2.06-.94-2.06-.94-.94-2.06-.94 2.06-2.06.94z\"/><path d=\"M17.41 7.96l-1.37-1.37c-.4-.4-.92-.59-1.43-.59-.52 0-1.04.2-1.43.59L10.3 9.45l-7.72 7.72c-.78.78-.78 2.05 0 2.83L4 21.41c.39.39.9.59 1.41.59.51 0 1.02-.2 1.41-.59l7.78-7.78 2.81-2.81c.8-.78.8-2.07 0-2.86zM5.41 20L4 18.59l7.72-7.72 1.47 1.35L5.41 20z\"/>\n",
              "  </svg>\n",
              "      </button>\n",
              "      \n",
              "  <style>\n",
              "    .colab-df-container {\n",
              "      display:flex;\n",
              "      flex-wrap:wrap;\n",
              "      gap: 12px;\n",
              "    }\n",
              "\n",
              "    .colab-df-convert {\n",
              "      background-color: #E8F0FE;\n",
              "      border: none;\n",
              "      border-radius: 50%;\n",
              "      cursor: pointer;\n",
              "      display: none;\n",
              "      fill: #1967D2;\n",
              "      height: 32px;\n",
              "      padding: 0 0 0 0;\n",
              "      width: 32px;\n",
              "    }\n",
              "\n",
              "    .colab-df-convert:hover {\n",
              "      background-color: #E2EBFA;\n",
              "      box-shadow: 0px 1px 2px rgba(60, 64, 67, 0.3), 0px 1px 3px 1px rgba(60, 64, 67, 0.15);\n",
              "      fill: #174EA6;\n",
              "    }\n",
              "\n",
              "    [theme=dark] .colab-df-convert {\n",
              "      background-color: #3B4455;\n",
              "      fill: #D2E3FC;\n",
              "    }\n",
              "\n",
              "    [theme=dark] .colab-df-convert:hover {\n",
              "      background-color: #434B5C;\n",
              "      box-shadow: 0px 1px 3px 1px rgba(0, 0, 0, 0.15);\n",
              "      filter: drop-shadow(0px 1px 2px rgba(0, 0, 0, 0.3));\n",
              "      fill: #FFFFFF;\n",
              "    }\n",
              "  </style>\n",
              "\n",
              "      <script>\n",
              "        const buttonEl =\n",
              "          document.querySelector('#df-c182d0cd-f689-4d60-b19e-2dd87e37825b button.colab-df-convert');\n",
              "        buttonEl.style.display =\n",
              "          google.colab.kernel.accessAllowed ? 'block' : 'none';\n",
              "\n",
              "        async function convertToInteractive(key) {\n",
              "          const element = document.querySelector('#df-c182d0cd-f689-4d60-b19e-2dd87e37825b');\n",
              "          const dataTable =\n",
              "            await google.colab.kernel.invokeFunction('convertToInteractive',\n",
              "                                                     [key], {});\n",
              "          if (!dataTable) return;\n",
              "\n",
              "          const docLinkHtml = 'Like what you see? Visit the ' +\n",
              "            '<a target=\"_blank\" href=https://colab.research.google.com/notebooks/data_table.ipynb>data table notebook</a>'\n",
              "            + ' to learn more about interactive tables.';\n",
              "          element.innerHTML = '';\n",
              "          dataTable['output_type'] = 'display_data';\n",
              "          await google.colab.output.renderOutput(dataTable, element);\n",
              "          const docLink = document.createElement('div');\n",
              "          docLink.innerHTML = docLinkHtml;\n",
              "          element.appendChild(docLink);\n",
              "        }\n",
              "      </script>\n",
              "    </div>\n",
              "  </div>\n",
              "  "
            ]
          },
          "metadata": {},
          "execution_count": 35
        }
      ]
    },
    {
      "cell_type": "code",
      "source": [
        "from sklearn.preprocessing import StandardScaler"
      ],
      "metadata": {
        "id": "WGPB5YIDwCcQ"
      },
      "execution_count": null,
      "outputs": []
    },
    {
      "cell_type": "code",
      "source": [
        "scale = StandardScaler()"
      ],
      "metadata": {
        "id": "W4zImpKpwH3x"
      },
      "execution_count": null,
      "outputs": []
    },
    {
      "cell_type": "markdown",
      "source": [
        "## Train Model"
      ],
      "metadata": {
        "id": "US_OSRTHps6r"
      }
    },
    {
      "cell_type": "code",
      "source": [
        "y = prisoners['Sentence (Years)']\n",
        "X_data = prisoners[['Age','Offense Code','County Labels','Facility Labels','F','M','A','B','H','I','O','W']]"
      ],
      "metadata": {
        "id": "nsKjj8sVpumy"
      },
      "execution_count": null,
      "outputs": []
    },
    {
      "cell_type": "code",
      "source": [
        "X = scale.fit_transform(X_data)"
      ],
      "metadata": {
        "id": "VdbMrSSUwSjS"
      },
      "execution_count": null,
      "outputs": []
    },
    {
      "cell_type": "code",
      "source": [
        "from sklearn.model_selection import train_test_split"
      ],
      "metadata": {
        "id": "3xrxpmCNMzwh"
      },
      "execution_count": null,
      "outputs": []
    },
    {
      "cell_type": "code",
      "source": [
        "X_train, X_test, y_train, y_test = train_test_split(X, y, test_size=0.3, random_state=101)"
      ],
      "metadata": {
        "id": "-foB1dbwM2-w"
      },
      "execution_count": null,
      "outputs": []
    },
    {
      "cell_type": "code",
      "source": [
        "from sklearn.linear_model import LinearRegression"
      ],
      "metadata": {
        "id": "kibmcg9QM-QK"
      },
      "execution_count": null,
      "outputs": []
    },
    {
      "cell_type": "code",
      "source": [
        "lm = LinearRegression()"
      ],
      "metadata": {
        "id": "zU7SGCvkVICG"
      },
      "execution_count": null,
      "outputs": []
    },
    {
      "cell_type": "code",
      "source": [
        "lm.fit(X_train,y_train)"
      ],
      "metadata": {
        "colab": {
          "base_uri": "https://localhost:8080/"
        },
        "id": "ZbpNb4P0VK20",
        "outputId": "235bde10-aee6-454e-b0f2-0d4d1eabcc6e"
      },
      "execution_count": null,
      "outputs": [
        {
          "output_type": "execute_result",
          "data": {
            "text/plain": [
              "LinearRegression()"
            ]
          },
          "metadata": {},
          "execution_count": 44
        }
      ]
    },
    {
      "cell_type": "code",
      "source": [
        "from sklearn import svm"
      ],
      "metadata": {
        "id": "mfFWydtQytj-"
      },
      "execution_count": null,
      "outputs": []
    },
    {
      "cell_type": "code",
      "source": [
        "reg = svm.SVR()"
      ],
      "metadata": {
        "id": "tCGgYxdmyzUk"
      },
      "execution_count": null,
      "outputs": []
    },
    {
      "cell_type": "code",
      "source": [
        "reg.fit(X_train,y_train)"
      ],
      "metadata": {
        "colab": {
          "base_uri": "https://localhost:8080/"
        },
        "id": "ewyhXcwvy61E",
        "outputId": "5743057c-d7e7-4225-d611-23d8ab4b6920"
      },
      "execution_count": null,
      "outputs": [
        {
          "output_type": "execute_result",
          "data": {
            "text/plain": [
              "SVR()"
            ]
          },
          "metadata": {},
          "execution_count": 51
        }
      ]
    },
    {
      "cell_type": "markdown",
      "source": [
        "## Predictions"
      ],
      "metadata": {
        "id": "z3SDgI60VLvw"
      }
    },
    {
      "cell_type": "code",
      "source": [
        "predictions = lm.predict(X_test)"
      ],
      "metadata": {
        "id": "PUgWuxfnwyBQ"
      },
      "execution_count": null,
      "outputs": []
    },
    {
      "cell_type": "code",
      "source": [
        "plt.scatter(y_test,predictions)\n",
        "plt.xlabel('Y Test')\n",
        "plt.ylabel('Predicted Y')"
      ],
      "metadata": {
        "colab": {
          "base_uri": "https://localhost:8080/",
          "height": 297
        },
        "id": "llIFz_CuVT8v",
        "outputId": "81842e94-21a4-4c96-a7a5-a94025ebec6e"
      },
      "execution_count": null,
      "outputs": [
        {
          "output_type": "execute_result",
          "data": {
            "text/plain": [
              "Text(0, 0.5, 'Predicted Y')"
            ]
          },
          "metadata": {},
          "execution_count": 46
        },
        {
          "output_type": "display_data",
          "data": {
            "text/plain": [
              "<Figure size 432x288 with 1 Axes>"
            ],
            "image/png": "[encoded data removed]"
          },
          "metadata": {
            "needs_background": "light"
          }
        }
      ]
    },
    {
      "cell_type": "code",
      "source": [
        "# calculate these metrics by hand!\n",
        "from sklearn import metrics\n",
        "\n",
        "print('MAE:', metrics.mean_absolute_error(y_test, predictions))\n",
        "print('MSE:', metrics.mean_squared_error(y_test, predictions))\n",
        "print('RMSE:', np.sqrt(metrics.mean_squared_error(y_test, predictions)))"
      ],
      "metadata": {
        "colab": {
          "base_uri": "https://localhost:8080/"
        },
        "id": "wet6W0C3VXV8",
        "outputId": "9476f07a-ba47-4596-ccf2-af238a7520c7"
      },
      "execution_count": null,
      "outputs": [
        {
          "output_type": "stream",
          "name": "stdout",
          "text": [
            "MAE: 11.548330111859542\n",
            "MSE: 270.0919745496008\n",
            "RMSE: 16.434475183272536\n"
          ]
        }
      ]
    },
    {
      "cell_type": "code",
      "source": [
        "sns.distplot((y_test-predictions),bins=50);"
      ],
      "metadata": {
        "colab": {
          "base_uri": "https://localhost:8080/",
          "height": 334
        },
        "id": "K9pgLDr9Vgxl",
        "outputId": "063b2751-f0fc-4c4e-bef9-204803f04908"
      },
      "execution_count": null,
      "outputs": [
        {
          "output_type": "stream",
          "name": "stderr",
          "text": [
            "/usr/local/lib/python3.7/dist-packages/seaborn/distributions.py:2619: FutureWarning: `distplot` is a deprecated function and will be removed in a future version. Please adapt your code to use either `displot` (a figure-level function with similar flexibility) or `histplot` (an axes-level function for histograms).\n",
            "  warnings.warn(msg, FutureWarning)\n"
          ]
        },
        {
          "output_type": "display_data",
          "data": {
            "text/plain": [
              "<Figure size 432x288 with 1 Axes>"
            ],
            "image/png": "[encoded data removed]"
          },
          "metadata": {
            "needs_background": "light"
          }
        }
      ]
    },
    {
      "cell_type": "code",
      "source": [
        "reg_pred = reg.predict(X_test)"
      ],
      "metadata": {
        "id": "BYosJ42GVrRf"
      },
      "execution_count": null,
      "outputs": []
    },
    {
      "cell_type": "code",
      "source": [
        "plt.scatter(y_test,reg_pred)\n",
        "plt.xlabel('Y Test')\n",
        "plt.ylabel('Predicted Y')"
      ],
      "metadata": {
        "colab": {
          "base_uri": "https://localhost:8080/",
          "height": 297
        },
        "id": "6Gp71lv03-os",
        "outputId": "0202643c-83d1-4710-c336-575bcfff5ff1"
      },
      "execution_count": null,
      "outputs": [
        {
          "output_type": "execute_result",
          "data": {
            "text/plain": [
              "Text(0, 0.5, 'Predicted Y')"
            ]
          },
          "metadata": {},
          "execution_count": 53
        },
        {
          "output_type": "display_data",
          "data": {
            "text/plain": [
              "<Figure size 432x288 with 1 Axes>"
            ],
            "image/png": "[encoded data removed]"
          },
          "metadata": {
            "needs_background": "light"
          }
        }
      ]
    },
    {
      "cell_type": "code",
      "source": [
        "print('MAE:', metrics.mean_absolute_error(y_test, reg_pred))\n",
        "print('MSE:', metrics.mean_squared_error(y_test, reg_pred))\n",
        "print('RMSE:', np.sqrt(metrics.mean_squared_error(y_test, reg_pred)))"
      ],
      "metadata": {
        "colab": {
          "base_uri": "https://localhost:8080/"
        },
        "id": "XNtUBK_B4Fus",
        "outputId": "6cef447e-132f-4978-be21-ffcd51f6e1a9"
      },
      "execution_count": null,
      "outputs": [
        {
          "output_type": "stream",
          "name": "stdout",
          "text": [
            "MAE: 10.296438111248705\n",
            "MSE: 267.03847792329935\n",
            "RMSE: 16.341312001283722\n"
          ]
        }
      ]
    },
    {
      "cell_type": "code",
      "source": [
        "sns.distplot((y_test-reg_pred),bins=50);"
      ],
      "metadata": {
        "colab": {
          "base_uri": "https://localhost:8080/",
          "height": 334
        },
        "id": "Z4v_EY0M4O8u",
        "outputId": "8130179c-e08c-4224-90a7-10ba4b752b8a"
      },
      "execution_count": null,
      "outputs": [
        {
          "output_type": "stream",
          "name": "stderr",
          "text": [
            "/usr/local/lib/python3.7/dist-packages/seaborn/distributions.py:2619: FutureWarning: `distplot` is a deprecated function and will be removed in a future version. Please adapt your code to use either `displot` (a figure-level function with similar flexibility) or `histplot` (an axes-level function for histograms).\n",
            "  warnings.warn(msg, FutureWarning)\n"
          ]
        },
        {
          "output_type": "display_data",
          "data": {
            "text/plain": [
              "<Figure size 432x288 with 1 Axes>"
            ],
            "image/png": "[encoded data removed]"
          },
          "metadata": {
            "needs_background": "light"
          }
        }
      ]
    },
    {
      "cell_type": "code",
      "source": [
        ""
      ],
      "metadata": {
        "id": "d8vke16J419H"
      },
      "execution_count": null,
      "outputs": []
    }
  ]
}